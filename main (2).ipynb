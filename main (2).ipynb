{
 "cells": [
  {
   "cell_type": "markdown",
   "metadata": {
    "id": "CNKK15S4siQH"
   },
   "source": [
    "# Homework 5 - Exploring StackOverflow!"
   ]
  },
  {
   "cell_type": "code",
   "execution_count": 2,
   "metadata": {},
   "outputs": [],
   "source": [
    "## Import Utils\n",
    "import pandas as pd\n",
    "import numpy as np\n",
    "import matplotlib.pyplot as plt\n",
    "import networkx as nx\n",
    "from datetime import datetime, date"
   ]
  },
  {
   "cell_type": "markdown",
   "metadata": {},
   "source": [
    "## 1. Data"
   ]
  },
  {
   "cell_type": "markdown",
   "metadata": {},
   "source": [
    "Load the data"
   ]
  },
  {
   "cell_type": "code",
   "execution_count": 3,
   "metadata": {
    "id": "eVgLfivrsiQM"
   },
   "outputs": [],
   "source": [
    "with open('sx-stackoverflow-a2q.txt') as f:\n",
    "    a2q = f.readlines()"
   ]
  },
  {
   "cell_type": "code",
   "execution_count": 4,
   "metadata": {
    "id": "LA5lHCIusiQN"
   },
   "outputs": [],
   "source": [
    "with open('sx-stackoverflow-c2q.txt') as f:\n",
    "    c2q = f.readlines()"
   ]
  },
  {
   "cell_type": "code",
   "execution_count": 5,
   "metadata": {
    "id": "5tyoh6LssiQN"
   },
   "outputs": [],
   "source": [
    "with open('sx-stackoverflow-c2a.txt') as f:\n",
    "    c2a = f.readlines()"
   ]
  },
  {
   "cell_type": "code",
   "execution_count": 6,
   "metadata": {
    "id": "AhS6xBkjsiQO"
   },
   "outputs": [],
   "source": [
    "## Init Graph\n",
    "G = nx.DiGraph()"
   ]
  },
  {
   "cell_type": "markdown",
   "metadata": {},
   "source": [
    "In the merged graph we decided to assign the following weigths: \\\n",
    "$\\cdot$ 0.6 to *Answers to questions*\\\n",
    "$\\cdot$ 0.3 to *Comments to questions* \\\n",
    "$\\cdot$ 0.1 to *Comments to answers* \\\n",
    "The reason is that we have thought that the answers to questions are the more relevant than the comments to question, that are more relevant than comments to answers."
   ]
  },
  {
   "cell_type": "code",
   "execution_count": 7,
   "metadata": {},
   "outputs": [
    {
     "ename": "IndexError",
     "evalue": "list index out of range",
     "output_type": "error",
     "traceback": [
      "\u001b[1;31m---------------------------------------------------------------------------\u001b[0m",
      "\u001b[1;31mIndexError\u001b[0m                                Traceback (most recent call last)",
      "\u001b[1;32m<ipython-input-7-39a14dd4559c>\u001b[0m in \u001b[0;36m<module>\u001b[1;34m\u001b[0m\n\u001b[0;32m     19\u001b[0m     \u001b[0mline\u001b[0m \u001b[1;33m=\u001b[0m \u001b[0mline\u001b[0m\u001b[1;33m.\u001b[0m\u001b[0mreplace\u001b[0m\u001b[1;33m(\u001b[0m\u001b[1;34m'\\n'\u001b[0m\u001b[1;33m,\u001b[0m \u001b[1;34m''\u001b[0m\u001b[1;33m)\u001b[0m\u001b[1;33m\u001b[0m\u001b[1;33m\u001b[0m\u001b[0m\n\u001b[0;32m     20\u001b[0m     \u001b[0mline\u001b[0m \u001b[1;33m=\u001b[0m \u001b[0mline\u001b[0m\u001b[1;33m.\u001b[0m\u001b[0msplit\u001b[0m\u001b[1;33m(\u001b[0m\u001b[1;34m' '\u001b[0m\u001b[1;33m)\u001b[0m\u001b[1;33m\u001b[0m\u001b[1;33m\u001b[0m\u001b[0m\n\u001b[1;32m---> 21\u001b[1;33m     \u001b[0mt\u001b[0m \u001b[1;33m=\u001b[0m \u001b[0mdatetime\u001b[0m\u001b[1;33m.\u001b[0m\u001b[0mfromtimestamp\u001b[0m\u001b[1;33m(\u001b[0m\u001b[0mint\u001b[0m\u001b[1;33m(\u001b[0m\u001b[0mline\u001b[0m\u001b[1;33m[\u001b[0m\u001b[1;36m2\u001b[0m\u001b[1;33m]\u001b[0m\u001b[1;33m)\u001b[0m\u001b[1;33m)\u001b[0m\u001b[1;33m\u001b[0m\u001b[1;33m\u001b[0m\u001b[0m\n\u001b[0m\u001b[0;32m     22\u001b[0m     \u001b[0mt_truncated\u001b[0m \u001b[1;33m=\u001b[0m \u001b[0mdate\u001b[0m\u001b[1;33m(\u001b[0m\u001b[0mt\u001b[0m\u001b[1;33m.\u001b[0m\u001b[0myear\u001b[0m\u001b[1;33m,\u001b[0m\u001b[0mt\u001b[0m\u001b[1;33m.\u001b[0m\u001b[0mmonth\u001b[0m\u001b[1;33m,\u001b[0m \u001b[0mt\u001b[0m\u001b[1;33m.\u001b[0m\u001b[0mday\u001b[0m\u001b[1;33m)\u001b[0m\u001b[1;33m\u001b[0m\u001b[1;33m\u001b[0m\u001b[0m\n\u001b[0;32m     23\u001b[0m     \u001b[1;32mif\u001b[0m \u001b[0mt_start\u001b[0m \u001b[1;33m<=\u001b[0m \u001b[0mt\u001b[0m \u001b[1;33m<\u001b[0m \u001b[0mt_end\u001b[0m \u001b[1;33m:\u001b[0m\u001b[1;33m\u001b[0m\u001b[1;33m\u001b[0m\u001b[0m\n",
      "\u001b[1;31mIndexError\u001b[0m: list index out of range"
     ]
    }
   ],
   "source": [
    "## Merge Graph\n",
    "t_start = datetime(2009, 10, 1)\n",
    "t_end = datetime(2010, 10, 1)\n",
    "\n",
    "for line in a2q:\n",
    "    line = line.replace('\\n', '')\n",
    "    line = line.split(' ') \n",
    "    t = datetime.fromtimestamp(int(line[2]))\n",
    "    t_truncated = date(t.year,t.month, t.day)\n",
    "    if t_start <= t < t_end :\n",
    "        if G.has_edge(line[0], line[1]) :\n",
    "            G[line[0]][line[1]]['weight'] += 0.6\n",
    "            G[line[0]][line[1]]['timestamp'].append(t_truncated)\n",
    "        else :\n",
    "            G.add_edge(line[0], line[1], weight=0.6)\n",
    "            G[line[0]][line[1]]['timestamp']=[t_truncated]\n",
    "\n",
    "for line in c2q:\n",
    "    line = line.replace('\\n', '')\n",
    "    line = line.split(' ') \n",
    "    t = datetime.fromtimestamp(int(line[2]))\n",
    "    t_truncated = date(t.year,t.month, t.day)\n",
    "    if t_start <= t < t_end :\n",
    "        if G.has_edge(line[0], line[1]) :\n",
    "            G[line[0]][line[1]]['weight'] += 0.3\n",
    "            G[line[0]][line[1]]['timestamp'].append(t_truncated)\n",
    "        else :\n",
    "            G.add_edge(line[0], line[1], weight=0.3)\n",
    "            G[line[0]][line[1]]['timestamp']=[t_truncated]\n",
    "\n",
    "for line in c2a:\n",
    "    line = line.replace('\\n', '')\n",
    "    line = line.split(' ') \n",
    "    t = datetime.fromtimestamp(int(line[2]))\n",
    "    t_truncated = date(t.year,t.month, t.day)\n",
    "    if t_start <= t < t_end :\n",
    "        if G.has_edge(line[0], line[1]) :\n",
    "            G[line[0]][line[1]]['weight'] += 0.1\n",
    "            G[line[0]][line[1]]['timestamp'].append(t_truncated)\n",
    "        else :\n",
    "            G.add_edge(line[0], line[1], weight=0.1)\n",
    "            G[line[0]][line[1]]['timestamp']=[t_truncated]"
   ]
  },
  {
   "cell_type": "markdown",
   "metadata": {},
   "source": [
    "## 2. Implementation of the backend"
   ]
  },
  {
   "cell_type": "markdown",
   "metadata": {
    "id": "OZVIRQiXvJTu"
   },
   "source": [
    "### Functionality 1 - Get the overall features of the graph"
   ]
  },
  {
   "cell_type": "code",
   "execution_count": 7,
   "metadata": {
    "id": "_SbfzZ4OsiQS"
   },
   "outputs": [],
   "source": [
    "## Graph 1\n",
    "\n",
    "## Init\n",
    "G_a2q = nx.DiGraph()\n",
    "\n",
    "t_start = datetime(2010, 10, 1)\n",
    "t_end = datetime(2010, 11, 1)\n",
    "\n",
    "## Import data\n",
    "for line in a2q:\n",
    "    line = line.replace('\\n', '')\n",
    "    line = line.split(' ') \n",
    "    t = datetime.fromtimestamp(int(line[2]))\n",
    "    t_truncated = date(t.year,t.month, t.day)\n",
    "    if t_start <= t < t_end :\n",
    "        if G_a2q.has_edge(line[0], line[1]) :\n",
    "            G_a2q[line[0]][line[1]]['weight'] += 0.6\n",
    "            G_a2q[line[0]][line[1]]['timestamp'].append(t_truncated)\n",
    "        else :\n",
    "            G_a2q.add_edge(line[0], line[1], weight=0.6)\n",
    "            G_a2q[line[0]][line[1]]['timestamp']=[t_truncated]"
   ]
  },
  {
   "cell_type": "code",
   "execution_count": 10,
   "metadata": {
    "id": "jahmyN3ivu6b"
   },
   "outputs": [
    {
     "ename": "IndexError",
     "evalue": "list index out of range",
     "output_type": "error",
     "traceback": [
      "\u001b[1;31m---------------------------------------------------------------------------\u001b[0m",
      "\u001b[1;31mIndexError\u001b[0m                                Traceback (most recent call last)",
      "\u001b[1;32m<ipython-input-10-25861699c774>\u001b[0m in \u001b[0;36m<module>\u001b[1;34m\u001b[0m\n\u001b[0;32m      8\u001b[0m     \u001b[0mline\u001b[0m \u001b[1;33m=\u001b[0m \u001b[0mline\u001b[0m\u001b[1;33m.\u001b[0m\u001b[0mreplace\u001b[0m\u001b[1;33m(\u001b[0m\u001b[1;34m'\\n'\u001b[0m\u001b[1;33m,\u001b[0m \u001b[1;34m''\u001b[0m\u001b[1;33m)\u001b[0m\u001b[1;33m\u001b[0m\u001b[1;33m\u001b[0m\u001b[0m\n\u001b[0;32m      9\u001b[0m     \u001b[0mline\u001b[0m \u001b[1;33m=\u001b[0m \u001b[0mline\u001b[0m\u001b[1;33m.\u001b[0m\u001b[0msplit\u001b[0m\u001b[1;33m(\u001b[0m\u001b[1;34m' '\u001b[0m\u001b[1;33m)\u001b[0m\u001b[1;33m\u001b[0m\u001b[1;33m\u001b[0m\u001b[0m\n\u001b[1;32m---> 10\u001b[1;33m     \u001b[0mt\u001b[0m \u001b[1;33m=\u001b[0m \u001b[0mdatetime\u001b[0m\u001b[1;33m.\u001b[0m\u001b[0mfromtimestamp\u001b[0m\u001b[1;33m(\u001b[0m\u001b[0mint\u001b[0m\u001b[1;33m(\u001b[0m\u001b[0mline\u001b[0m\u001b[1;33m[\u001b[0m\u001b[1;36m2\u001b[0m\u001b[1;33m]\u001b[0m\u001b[1;33m)\u001b[0m\u001b[1;33m)\u001b[0m\u001b[1;33m\u001b[0m\u001b[1;33m\u001b[0m\u001b[0m\n\u001b[0m\u001b[0;32m     11\u001b[0m     \u001b[0mt_truncated\u001b[0m \u001b[1;33m=\u001b[0m \u001b[0mdate\u001b[0m\u001b[1;33m(\u001b[0m\u001b[0mt\u001b[0m\u001b[1;33m.\u001b[0m\u001b[0myear\u001b[0m\u001b[1;33m,\u001b[0m\u001b[0mt\u001b[0m\u001b[1;33m.\u001b[0m\u001b[0mmonth\u001b[0m\u001b[1;33m,\u001b[0m \u001b[0mt\u001b[0m\u001b[1;33m.\u001b[0m\u001b[0mday\u001b[0m\u001b[1;33m)\u001b[0m\u001b[1;33m\u001b[0m\u001b[1;33m\u001b[0m\u001b[0m\n\u001b[0;32m     12\u001b[0m     \u001b[1;32mif\u001b[0m \u001b[0mt_start\u001b[0m \u001b[1;33m<=\u001b[0m \u001b[0mt\u001b[0m \u001b[1;33m<\u001b[0m \u001b[0mt_end\u001b[0m \u001b[1;33m:\u001b[0m\u001b[1;33m\u001b[0m\u001b[1;33m\u001b[0m\u001b[0m\n",
      "\u001b[1;31mIndexError\u001b[0m: list index out of range"
     ]
    }
   ],
   "source": [
    "## Graph 2\n",
    "\n",
    "## Init\n",
    "G_c2q = nx.DiGraph()\n",
    "\n",
    "## Import data\n",
    "for line in c2q:\n",
    "    line = line.replace('\\n', '')\n",
    "    line = line.split(' ') \n",
    "    t = datetime.fromtimestamp(int(line[2]))\n",
    "    t_truncated = date(t.year,t.month, t.day)\n",
    "    if t_start <= t < t_end :\n",
    "        if G_c2q.has_edge(line[0], line[1]) :\n",
    "            G_c2q[line[0]][line[1]]['weight'] += 0.3\n",
    "            G_c2q[line[0]][line[1]]['timestamp'].append(t_truncated)\n",
    "        else :\n",
    "            G_c2q.add_edge(line[0], line[1], weight=0.3)\n",
    "            G_c2q[line[0]][line[1]]['timestamp']=[t_truncated]"
   ]
  },
  {
   "cell_type": "code",
   "execution_count": 11,
   "metadata": {
    "id": "hOKmuJ1XvvDY"
   },
   "outputs": [],
   "source": [
    "## Graph 3\n",
    "\n",
    "## Init\n",
    "G_c2a = nx.DiGraph()\n",
    "\n",
    "## Import data\n",
    "for line in c2a:\n",
    "    line = line.replace('\\n', '')\n",
    "    line = line.split(' ') \n",
    "    t = datetime.fromtimestamp(int(line[2]))\n",
    "    t_truncated = date(t.year,t.month, t.day)\n",
    "    if t_start <= t < t_end :\n",
    "        if G_c2a.has_edge(line[0], line[1]) :\n",
    "            G_c2a[line[0]][line[1]]['weight'] += 0.1\n",
    "            G_c2a[line[0]][line[1]]['timestamp'].append(t_truncated)\n",
    "        else :\n",
    "            G_c2a.add_edge(line[0], line[1], weight=0.1)\n",
    "            G_c2a[line[0]][line[1]]['timestamp']=[t_truncated]"
   ]
  },
  {
   "cell_type": "markdown",
   "metadata": {},
   "source": [
    "#### $\\cdot$ Is the graph direct or not?"
   ]
  },
  {
   "cell_type": "markdown",
   "metadata": {},
   "source": [
    "##### Given a graph G=(V,E), if G is a directed graph the sum of the lengths of all the adjacency list is |E|"
   ]
  },
  {
   "cell_type": "code",
   "execution_count": 11,
   "metadata": {},
   "outputs": [],
   "source": [
    "l = []\n",
    "for line in nx.generate_adjlist(G_a2q):\n",
    "    l.append(line.split(' '))"
   ]
  },
  {
   "cell_type": "code",
   "execution_count": 12,
   "metadata": {
    "id": "6pUOT3xWFgDB"
   },
   "outputs": [],
   "source": [
    "def is_directed(Graph):\n",
    "    number_nodes=len(list(G_a2q.nodes))\n",
    "    sum = 0\n",
    "    for line in l: \n",
    "        sum += len(line)\n",
    "    if (sum - number_nodes) == len(Graph.edges):  #I subtract the number of nodes because nx.generate_adjlist generates as first element of each list the node we're considering\n",
    "        return True \n",
    "    else:\n",
    "        return False\n"
   ]
  },
  {
   "cell_type": "code",
   "execution_count": 13,
   "metadata": {
    "colab": {
     "base_uri": "https://localhost:8080/"
    },
    "id": "-JschTBJ2bWD",
    "outputId": "a87cba48-800a-4eb0-fdc8-ccd93e89e77c"
   },
   "outputs": [
    {
     "data": {
      "text/plain": [
       "True"
      ]
     },
     "execution_count": 13,
     "metadata": {},
     "output_type": "execute_result"
    }
   ],
   "source": [
    "is_directed(G_a2q)"
   ]
  },
  {
   "cell_type": "code",
   "execution_count": 14,
   "metadata": {
    "colab": {
     "base_uri": "https://localhost:8080/"
    },
    "id": "r9BftM5n2gEN",
    "outputId": "cb78d6f0-551b-476b-b063-c4451aaabefb"
   },
   "outputs": [
    {
     "data": {
      "text/plain": [
       "True"
      ]
     },
     "execution_count": 14,
     "metadata": {},
     "output_type": "execute_result"
    }
   ],
   "source": [
    "# Check\n",
    "nx.is_directed(G_a2q)"
   ]
  },
  {
   "cell_type": "markdown",
   "metadata": {},
   "source": [
    "#### $\\cdot$ Number of users"
   ]
  },
  {
   "cell_type": "markdown",
   "metadata": {},
   "source": [
    "##### the number of users is simply the number of nodes"
   ]
  },
  {
   "cell_type": "code",
   "execution_count": 15,
   "metadata": {},
   "outputs": [],
   "source": [
    "def n_users(Graph):\n",
    "    l_nodes=list(Graph.nodes)\n",
    "    n_nodes=len(l_nodes)\n",
    "    return(n_nodes)"
   ]
  },
  {
   "cell_type": "markdown",
   "metadata": {},
   "source": [
    "#### $\\cdot$ Number of answers/comments"
   ]
  },
  {
   "cell_type": "markdown",
   "metadata": {},
   "source": [
    "##### the number of answers/comments is simply the number of edges"
   ]
  },
  {
   "cell_type": "code",
   "execution_count": 16,
   "metadata": {},
   "outputs": [],
   "source": [
    "def n_answers(Graph):\n",
    "    l_edges=list(Graph.edges)\n",
    "    n_edges=len(l_edges)\n",
    "    return(n_edges)"
   ]
  },
  {
   "cell_type": "markdown",
   "metadata": {},
   "source": [
    "#### $\\cdot$ Average number of links per user"
   ]
  },
  {
   "cell_type": "code",
   "execution_count": 17,
   "metadata": {},
   "outputs": [],
   "source": [
    "def average(n_edges,n_nodes):\n",
    "    return(n_edges/n_nodes)"
   ]
  },
  {
   "cell_type": "markdown",
   "metadata": {},
   "source": [
    "#### $\\cdot$ Density degree of the graph"
   ]
  },
  {
   "cell_type": "markdown",
   "metadata": {},
   "source": [
    "##### The density degree for a directed graph is : $D =  \\frac{|E|} {(|V| * (|V| - 1))}$"
   ]
  },
  {
   "cell_type": "code",
   "execution_count": 18,
   "metadata": {},
   "outputs": [],
   "source": [
    "def density_degre(n_edges, n_nodes):\n",
    "    return(n_edges/(n_nodes*(n_nodes-1)))"
   ]
  },
  {
   "cell_type": "markdown",
   "metadata": {},
   "source": [
    "#### $\\cdot$ Is the graph sparse or dense?"
   ]
  },
  {
   "cell_type": "markdown",
   "metadata": {},
   "source": [
    "##### A sparse graph is a graph for which $|E|$ is much less than $|V^2|$"
   ]
  },
  {
   "cell_type": "code",
   "execution_count": 51,
   "metadata": {},
   "outputs": [],
   "source": [
    "def graph_mode(n_edges,n_nodes):\n",
    "    if (n_edges < (n_nodes**2)):\n",
    "        return(\"The graph is sparse because the number of edges is \" +str(n_edges) + \", that is much less than the square of the number of nodes \"+ str(n_nodes**2))\n",
    "    else:\n",
    "        return(\"The graph is dense because the number of edges is close to the square of the number of nodes, in fact the number of edges is \" + str(n_edges)+ \"and the square of the number of edges is \"+ str(n_nodes**2))"
   ]
  },
  {
   "cell_type": "code",
   "execution_count": 52,
   "metadata": {},
   "outputs": [],
   "source": [
    "def functionality_1(Graph):\n",
    "    isdirected=is_directed(Graph)\n",
    "    numbernodes=n_users(Graph)\n",
    "    numberedges=n_answers(Graph)\n",
    "    average_=average(numberedges,numbernodes)\n",
    "    densitydegree=density_degre(numberedges, numbernodes)\n",
    "    print(\"Functionality 1 - Get the overall features of the graph\")\n",
    "    print(\"Is the graph directed?: \" + str(isdirected))\n",
    "    print(\"Number of users: \" + str(numbernodes))\n",
    "    print(\"Number of answers: \" + str(numberedges))\n",
    "    print(\"Average number of links per user: \" + str(average_))\n",
    "    print(\"Graph density: \" +  str(densitydegree))\n",
    "    print(graph_mode(numberedges, numbernodes))"
   ]
  },
  {
   "cell_type": "code",
   "execution_count": 53,
   "metadata": {},
   "outputs": [
    {
     "name": "stdout",
     "output_type": "stream",
     "text": [
      "Functionality 1 - Get the overall features of the graph\n",
      "Is the graph directed?: True\n",
      "Number of users: 48647\n",
      "Number of answers: 123536\n",
      "Average number of links per user: 2.539437169815199\n",
      "Graph density: 5.2202383953772136e-05\n",
      "The graph is sparse because the number of edges is 123536, that is much less than the square of the number of nodes 2366530609\n"
     ]
    }
   ],
   "source": [
    "functionality_1(G_a2q)"
   ]
  },
  {
   "cell_type": "markdown",
   "metadata": {},
   "source": [
    "### Functionality 2 - Find the best users!"
   ]
  },
  {
   "cell_type": "code",
   "execution_count": null,
   "metadata": {},
   "outputs": [],
   "source": []
  },
  {
   "cell_type": "markdown",
   "metadata": {},
   "source": [
    "### Functionality 3 - Shortest Ordered Route"
   ]
  },
  {
   "cell_type": "code",
   "execution_count": null,
   "metadata": {},
   "outputs": [],
   "source": []
  },
  {
   "cell_type": "markdown",
   "metadata": {},
   "source": [
    "### Functionality 4 - Disconnecting graphs"
   ]
  },
  {
   "cell_type": "code",
   "execution_count": null,
   "metadata": {},
   "outputs": [],
   "source": []
  },
  {
   "cell_type": "markdown",
   "metadata": {},
   "source": [
    "## 3. Implementation of the frontend"
   ]
  },
  {
   "cell_type": "code",
   "execution_count": null,
   "metadata": {},
   "outputs": [],
   "source": []
  },
  {
   "cell_type": "markdown",
   "metadata": {},
   "source": [
    "## 4. Algorithmic question"
   ]
  },
  {
   "cell_type": "markdown",
   "metadata": {},
   "source": [
    "A number n of kids are in a camp. Between some k pairs of them (a kid can be part of more than one pairs) there are often fights. At night there are two dormitories where the kids can sleep. We want, if possible, to assign each kid in one of the two dormitories in such a way that each pair of kids that fights often is assigned to a different dormitory. (There are no space problems and the two dormitories can have different number of kids.)\n",
    "\n",
    "Give an algorithm that is linear in n and k that is able to answer whether such an assignment is possible and, if so, return one."
   ]
  },
  {
   "cell_type": "code",
   "execution_count": 23,
   "metadata": {},
   "outputs": [],
   "source": [
    "def my_algo(kids, pairs):\n",
    "    '''\n",
    "    Input:\n",
    "        - kids : list of kids in the camp\n",
    "        - pairs : list of pairs of kids\n",
    "    '''\n",
    "    \n",
    "    dorm_1 = [] # List for the first dormitory\n",
    "    dorm_2 = [] # List for the second dormitory\n",
    "    visited_kids = [] # list of visited kids\n",
    "    \n",
    "    # Focus on the pairs to divide\n",
    "    for pair in pairs:\n",
    "        if (pair[0] not in visited_kids) & (pair[1] not in visited_kids):\n",
    "            visited_kids.append(pair[0]) # Append it to the list of visited\n",
    "            dorm_1.append(pair[0]) # Assign it to the first dormitory\n",
    "            \n",
    "            visited_kids.append(pair[1]) # Append it to the list of visited\n",
    "            dorm_2.append(pair[1]) # Assign it to the second dormitory\n",
    "        \n",
    "        elif (pair[0] in visited_kids) & (pair[1] not in visited_kids):\n",
    "            # we put the other kid in the pair\n",
    "            if pair[0] in dorm_1 :\n",
    "                dorm=dorm_2\n",
    "            else :\n",
    "                dorm=dorm_1\n",
    "            visited_kids.append(pair[1])\n",
    "            dorm.append(pair[1])\n",
    "        \n",
    "        elif (pair[0] not in visited_kids) & (pair[1] in visited_kids):\n",
    "            # we put the other kid in the pair\n",
    "            if pair[1] in dorm_1 :\n",
    "                dorm=dorm_2\n",
    "            else :\n",
    "                dorm=dorm_1\n",
    "            visited_kids.append(pair[0]) \n",
    "            dorm.append(pair[0])\n",
    "           \n",
    "    # Assign all the others kids in the first dormitory\n",
    "    for kid in kids:\n",
    "        if kid not in visited_kids:\n",
    "            visited_kids.append(kid)\n",
    "            dorm_1.append(kid)\n",
    "            \n",
    "    # Check if we have divided all the fighting couples\n",
    "    check = True # Initialize a counter\n",
    "    for pair in pairs:\n",
    "        if (pair[0] in dorm_1) & (pair[1] in dorm_1):\n",
    "            print('Two fighting kids in dorm 1!')\n",
    "            check = False\n",
    "        if (pair[0] in dorm_2) & (pair[1] in dorm_2):\n",
    "            print('Two fighting kids in dorm 2!')\n",
    "            check = False\n",
    "        \n",
    "    if not check:\n",
    "        print(\"It's impossible to assign these kids in different dorms..\")\n",
    "    else:\n",
    "        print('First dorm:', dorm_1, '\\nSecond dorm:', dorm_2)\n"
   ]
  },
  {
   "cell_type": "markdown",
   "metadata": {},
   "source": [
    "Test it with different examples."
   ]
  },
  {
   "cell_type": "code",
   "execution_count": 24,
   "metadata": {},
   "outputs": [
    {
     "name": "stdout",
     "output_type": "stream",
     "text": [
      "First dorm: [1, 2, 5, 6] \n",
      "Second dorm: [3, 4]\n"
     ]
    }
   ],
   "source": [
    "pairs = [(1,3),(4,1),(2,4)]\n",
    "kids = [1,2,3,4,5,6]\n",
    "my_algo(kids, pairs)"
   ]
  },
  {
   "cell_type": "code",
   "execution_count": 25,
   "metadata": {},
   "outputs": [
    {
     "name": "stdout",
     "output_type": "stream",
     "text": [
      "Two fighting kids in dorm 2!\n",
      "It's impossible to assign these kids in different dorms..\n"
     ]
    }
   ],
   "source": [
    "pairs = [(1,3),(4,1),(3,4)]\n",
    "kids = [1,2,3,4,5,6]\n",
    "my_algo(kids, pairs)"
   ]
  },
  {
   "cell_type": "code",
   "execution_count": 26,
   "metadata": {},
   "outputs": [
    {
     "name": "stdout",
     "output_type": "stream",
     "text": [
      "Two fighting kids in dorm 1!\n",
      "It's impossible to assign these kids in different dorms..\n"
     ]
    }
   ],
   "source": [
    "pairs = [(1,3),(4,1),(2,4),(2,1)]\n",
    "kids = [1,2,3,4,5,6]\n",
    "my_algo(kids, pairs)"
   ]
  },
  {
   "cell_type": "code",
   "execution_count": null,
   "metadata": {},
   "outputs": [],
   "source": []
  }
 ],
 "metadata": {
  "colab": {
   "collapsed_sections": [],
   "name": "Exercise 1.ipynb",
   "provenance": []
  },
  "kernelspec": {
   "display_name": "Python 3",
   "language": "python",
   "name": "python3"
  },
  "language_info": {
   "codemirror_mode": {
    "name": "ipython",
    "version": 3
   },
   "file_extension": ".py",
   "mimetype": "text/x-python",
   "name": "python",
   "nbconvert_exporter": "python",
   "pygments_lexer": "ipython3",
   "version": "3.8.8"
  }
 },
 "nbformat": 4,
 "nbformat_minor": 4
}
