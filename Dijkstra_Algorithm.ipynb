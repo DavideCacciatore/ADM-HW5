{
  "nbformat": 4,
  "nbformat_minor": 0,
  "metadata": {
    "colab": {
      "name": "Dijkstra Algorithm.ipynb",
      "provenance": [],
      "collapsed_sections": [],
      "machine_shape": "hm"
    },
    "kernelspec": {
      "display_name": "Python 3",
      "name": "python3"
    }
  },
  "cells": [
    {
      "cell_type": "markdown",
      "source": [
        "Dijkstra's shortest path algorithm works as follows:\n",
        "\n",
        "> Let distance of start vertex from start vertex = *0*. \n",
        "\n",
        "> Let distance of all other vertices from start = *+ Inf*.\n",
        "\n",
        "**Repeat**\n",
        "1. Visit the unvisited vertex with the smallest known distance from the start vertex.\n",
        "2. For the current vertex, examine its unvisited neighbours.\n",
        "3. For the current vertex, calculate distance of each neighbour from start vertex.\n",
        "4. If the calculated distance of a vertex is less than the known distance, update the shortest distance.\n",
        "5. Update the previous vertex for each of the updated distances.\n",
        "6. Add the current vertex to the ist of a visited vertices.\n",
        "\n",
        "Until all vertices visited."
      ],
      "metadata": {
        "id": "yAZY6jPnsmqs"
      }
    },
    {
      "cell_type": "code",
      "source": [
        "import math"
      ],
      "metadata": {
        "id": "7MkEctLEsm6_"
      },
      "execution_count": null,
      "outputs": []
    },
    {
      "cell_type": "code",
      "source": [
        "def shortest_path(G, source, target):\n",
        "  shortest_dist  = {} ## records the cost to reach to that node. \n",
        "  previous_nodes = {} ## keep track of the path that has led us to this node.\n",
        "  unvisited_nodes = list(nx.nodes(G)) ## all nodes\n",
        "  max_dist = math.inf\n",
        "  \n",
        "  for node in unvisited_nodes:\n",
        "    shortest_dist[node] = max_dist ## for all nodes set the distance = + Inf\n",
        "    previous_nodes[node] = None\n",
        "  shortest_dist[source] = 0 ## the distance of the source node is 0.\n",
        "\n",
        "  while len(unvisited_nodes) != 0:\n",
        "    dist = []\n",
        "    for node in unvisited_nodes:\n",
        "      dist.append(shortest_dist[node])\n",
        "    u = unvisited_nodes[dist.index(np.min(dist))] ## unvisited nodes with dist[u]\n",
        "    unvisited_nodes.remove(u) ## remove u from unvisited\n",
        "\n",
        "    ## Consider its neighbors\n",
        "    for neighbor in G.neighbors(u):\n",
        "      new_dist = shortest_dist[u] + G[u][neighbor]['weight']\n",
        "      if shortest_dist[neighbor] > new_dist:\n",
        "        shortest_dist[neighbor] = new_dist ## update the shortest distance\n",
        "        previous_nodes[neighbor] = u       ## update the previous node\n",
        "\n",
        "  ## if the target hasn't a previous node it means that the graph is not connected.\n",
        "  if previous_nodes[target] == None:\n",
        "    return ('Not possible')\n",
        "\n",
        "  path = [target]\n",
        "  current_node = target\n",
        "  while current_node != source:\n",
        "    path.append(previous_nodes[current_node])\n",
        "    current_node = previous_nodes[current_node]\n",
        "  path.reverse()\n",
        "\n",
        "  ## result (Distance and the path)\n",
        "  return shortest_dist[target], path"
      ],
      "metadata": {
        "id": "uckUSIJesotp"
      },
      "execution_count": null,
      "outputs": []
    }
  ]
}