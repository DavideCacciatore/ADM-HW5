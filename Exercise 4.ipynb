{
 "cells": [
  {
   "cell_type": "markdown",
   "metadata": {},
   "source": [
    "## **4. Algorithmic question**"
   ]
  },
  {
   "cell_type": "markdown",
   "metadata": {},
   "source": [
    "*A number n of kids are in a camp. Between some k pairs of them (a kid can be part of more than one pairs) there are often fights. At night there are two dormitories where the kids can sleep. We want, if possible, to assign each kid in one of the two dormitories in such a way that each pair of kids that fights often is assigned to a different dormitory. (There are no space problems and the two dormitories can have different number of kids.)*\n",
    "\n",
    "*Give an algorithm that is linear in n and k that is able to answer whether such an assignment is possible and, if so, return one.*"
   ]
  },
  {
   "cell_type": "code",
   "execution_count": 5,
   "metadata": {},
   "outputs": [],
   "source": [
    "def my_algo(n, k):\n",
    "    '''\n",
    "    Input:\n",
    "        - n: list of kids in the camp\n",
    "        - k: list of pairs of kids\n",
    "    '''\n",
    "    \n",
    "    dorm_1 = [] # List for the first dormitory\n",
    "    dorm_2 = [] # List for the second dormitory\n",
    "    kids = [] # list of visited kids\n",
    "    \n",
    "    # Focus on the pairs to divide\n",
    "    for i in k:\n",
    "        if i[0] not in kids: # If the first kid of the pair has not been already considered\n",
    "            kids.append(i[0]) # Append it to the list of visited\n",
    "            dorm_1.append(i[0]) # Assign it to the first dormitory\n",
    "            \n",
    "        if i[1] not in kids: # If the second kid of the pair has not been already considered\n",
    "            kids.append(i[1]) # Append it to the list of visited\n",
    "            dorm_2.append(i[1]) # Assign it to the second dormitory\n",
    "            \n",
    "    # Assign all the others kids in the first dormitory\n",
    "    for j in n:\n",
    "        if j not in kids:\n",
    "            kids.append(j)\n",
    "            dorm_1.append(j)\n",
    "            \n",
    "    # Check if we have divided all the fighting couples\n",
    "    c = 0 # Initialize a counter\n",
    "    for i in k:\n",
    "        if (i[0] in dorm_1) & (i[1] in dorm_1):\n",
    "            print('Two fighting kids in dorm 1!')\n",
    "            c += 1\n",
    "        if (i[0] in dorm_2) & (i[1] in dorm_2):\n",
    "            print('Two fighting kids in dorm 2!')\n",
    "            c += 1\n",
    "        \n",
    "    if c != 0:\n",
    "        print(\"It's impossible to assign these kids in different dorms..\")\n",
    "    else:\n",
    "        print('First dorm:', dorm_1, '\\nSecond dorm:', dorm_2)\n"
   ]
  },
  {
   "cell_type": "markdown",
   "metadata": {},
   "source": [
    "Test it with different examples."
   ]
  },
  {
   "cell_type": "code",
   "execution_count": 6,
   "metadata": {},
   "outputs": [
    {
     "name": "stdout",
     "output_type": "stream",
     "text": [
      "Two fighting kids in dorm 1!\n",
      "Two fighting kids in dorm 1!\n",
      "It's impossible to assign these kids in different dorms..\n"
     ]
    }
   ],
   "source": [
    "k = [(1,3),(4,1),(2,4)]\n",
    "n = [1,2,3,4,5,6]\n",
    "my_algo(n,k)"
   ]
  },
  {
   "cell_type": "code",
   "execution_count": null,
   "metadata": {},
   "outputs": [],
   "source": []
  }
 ],
 "metadata": {
  "kernelspec": {
   "display_name": "Python 3",
   "language": "python",
   "name": "python3"
  },
  "language_info": {
   "codemirror_mode": {
    "name": "ipython",
    "version": 3
   },
   "file_extension": ".py",
   "mimetype": "text/x-python",
   "name": "python",
   "nbconvert_exporter": "python",
   "pygments_lexer": "ipython3",
   "version": "3.7.4"
  }
 },
 "nbformat": 4,
 "nbformat_minor": 5
}
