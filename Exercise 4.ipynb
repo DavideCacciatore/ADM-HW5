{
 "cells": [
  {
   "cell_type": "markdown",
   "id": "d39de2e3",
   "metadata": {},
   "source": [
    "## **4. Algorithmic question**"
   ]
  },
  {
   "cell_type": "markdown",
   "id": "08943b41",
   "metadata": {},
   "source": [
    "*A number n of kids are in a camp. Between some k pairs of them (a kid can be part of more than one pairs) there are often fights. At night there are two dormitories where the kids can sleep. We want, if possible, to assign each kid in one of the two dormitories in such a way that each pair of kids that fights often is assigned to a different dormitory. (There are no space problems and the two dormitories can have different number of kids.)*\n",
    "\n",
    "*Give an algorithm that is linear in n and k that is able to answer whether such an assignment is possible and, if so, return one.*"
   ]
  },
  {
   "cell_type": "code",
   "execution_count": 3,
   "id": "de96bea8",
   "metadata": {},
   "outputs": [],
   "source": [
    "def my_algo(n, k):\n",
    "    '''\n",
    "    Input:\n",
    "        - n: list of kids in the camp\n",
    "        - k: list of pairs of kids\n",
    "    '''\n",
    "    \n",
    "    dorm_1 = [] # List for the first dormitory\n",
    "    dorm_2 = [] # List for the second dormitory\n",
    "    kids = [] # list of visited kids\n",
    "    \n",
    "    # Focus on the pairs to divide\n",
    "    for i in k:\n",
    "        if i[0] not in kids: # If the first kid of the pair has not been already considered\n",
    "            kids.append(i[0]) # Append it to the list of visited\n",
    "            dorm_1.append(i[0]) # Assign it to the first dormitory\n",
    "            \n",
    "        if i[1] not in kids: # If the second kid of the pair has not been already considered\n",
    "            kids.append(i[1]) # Append it to the list of visited\n",
    "            dorm_2.append(i[1]) # Assign it to the second dormitory\n",
    "            \n",
    "    # Assign all the others kids in the first dormitory\n",
    "    for k in n:\n",
    "        if k not in kids:\n",
    "            kids.append(k)\n",
    "            dorm_1.append(k)\n",
    "            \n",
    "    # Check if we have divided all the fighting couples\n",
    "    c = 0 # Initialize a counter\n",
    "    for i in k:\n",
    "        if i[0] in dorm_1 & i[1] in dorm_1:\n",
    "            print('Two fighting kids in dorm 1!')\n",
    "            c += 1\n",
    "        if i[0] in dorm_2 & i[1] in dorm_2:\n",
    "            print('Two fighting kids in dorm 2!')\n",
    "            c += 1\n",
    "        \n",
    "    if c != 0:\n",
    "        print(\"It's impossible to assign these kids in different dorms..\")\n",
    "    else:\n",
    "        print('First dorm:', dorm_1, '\\nSecond dorm:', dorm_2)\n"
   ]
  },
  {
   "cell_type": "markdown",
   "id": "c6c5cb4a",
   "metadata": {},
   "source": [
    "Test it with different examples."
   ]
  },
  {
   "cell_type": "code",
   "execution_count": 4,
   "id": "cc2c78b0",
   "metadata": {},
   "outputs": [
    {
     "ename": "TypeError",
     "evalue": "'int' object is not iterable",
     "output_type": "error",
     "traceback": [
      "\u001b[1;31m---------------------------------------------------------------------------\u001b[0m",
      "\u001b[1;31mTypeError\u001b[0m                                 Traceback (most recent call last)",
      "\u001b[1;32m<ipython-input-4-15a7057036bb>\u001b[0m in \u001b[0;36m<module>\u001b[1;34m\u001b[0m\n\u001b[0;32m      1\u001b[0m \u001b[0mk\u001b[0m \u001b[1;33m=\u001b[0m \u001b[1;33m[\u001b[0m\u001b[1;33m(\u001b[0m\u001b[1;36m1\u001b[0m\u001b[1;33m,\u001b[0m\u001b[1;36m3\u001b[0m\u001b[1;33m)\u001b[0m\u001b[1;33m,\u001b[0m\u001b[1;33m(\u001b[0m\u001b[1;36m4\u001b[0m\u001b[1;33m,\u001b[0m\u001b[1;36m1\u001b[0m\u001b[1;33m)\u001b[0m\u001b[1;33m,\u001b[0m\u001b[1;33m(\u001b[0m\u001b[1;36m2\u001b[0m\u001b[1;33m,\u001b[0m\u001b[1;36m4\u001b[0m\u001b[1;33m)\u001b[0m\u001b[1;33m]\u001b[0m\u001b[1;33m\u001b[0m\u001b[1;33m\u001b[0m\u001b[0m\n\u001b[0;32m      2\u001b[0m \u001b[0mn\u001b[0m \u001b[1;33m=\u001b[0m \u001b[1;33m[\u001b[0m\u001b[1;36m1\u001b[0m\u001b[1;33m,\u001b[0m\u001b[1;36m2\u001b[0m\u001b[1;33m,\u001b[0m\u001b[1;36m3\u001b[0m\u001b[1;33m,\u001b[0m\u001b[1;36m4\u001b[0m\u001b[1;33m,\u001b[0m\u001b[1;36m5\u001b[0m\u001b[1;33m,\u001b[0m\u001b[1;36m6\u001b[0m\u001b[1;33m]\u001b[0m\u001b[1;33m\u001b[0m\u001b[1;33m\u001b[0m\u001b[0m\n\u001b[1;32m----> 3\u001b[1;33m \u001b[0mmy_algo\u001b[0m\u001b[1;33m(\u001b[0m\u001b[0mn\u001b[0m\u001b[1;33m,\u001b[0m\u001b[0mk\u001b[0m\u001b[1;33m)\u001b[0m\u001b[1;33m\u001b[0m\u001b[1;33m\u001b[0m\u001b[0m\n\u001b[0m",
      "\u001b[1;32m<ipython-input-3-c0dd88b7733e>\u001b[0m in \u001b[0;36mmy_algo\u001b[1;34m(n, k)\u001b[0m\n\u001b[0;32m     28\u001b[0m     \u001b[1;31m# Check if we have divided all the fighting couples\u001b[0m\u001b[1;33m\u001b[0m\u001b[1;33m\u001b[0m\u001b[1;33m\u001b[0m\u001b[0m\n\u001b[0;32m     29\u001b[0m     \u001b[0mc\u001b[0m \u001b[1;33m=\u001b[0m \u001b[1;36m0\u001b[0m \u001b[1;31m# Initialize a counter\u001b[0m\u001b[1;33m\u001b[0m\u001b[1;33m\u001b[0m\u001b[0m\n\u001b[1;32m---> 30\u001b[1;33m     \u001b[1;32mfor\u001b[0m \u001b[0mi\u001b[0m \u001b[1;32min\u001b[0m \u001b[0mk\u001b[0m\u001b[1;33m:\u001b[0m\u001b[1;33m\u001b[0m\u001b[1;33m\u001b[0m\u001b[0m\n\u001b[0m\u001b[0;32m     31\u001b[0m         \u001b[1;32mif\u001b[0m \u001b[0mi\u001b[0m\u001b[1;33m[\u001b[0m\u001b[1;36m0\u001b[0m\u001b[1;33m]\u001b[0m \u001b[1;32min\u001b[0m \u001b[0mdorm_1\u001b[0m \u001b[1;33m&\u001b[0m \u001b[0mi\u001b[0m\u001b[1;33m[\u001b[0m\u001b[1;36m1\u001b[0m\u001b[1;33m]\u001b[0m \u001b[1;32min\u001b[0m \u001b[0mdorm_1\u001b[0m\u001b[1;33m:\u001b[0m\u001b[1;33m\u001b[0m\u001b[1;33m\u001b[0m\u001b[0m\n\u001b[0;32m     32\u001b[0m             \u001b[0mprint\u001b[0m\u001b[1;33m(\u001b[0m\u001b[1;34m'Two fighting kids in dorm 1!'\u001b[0m\u001b[1;33m)\u001b[0m\u001b[1;33m\u001b[0m\u001b[1;33m\u001b[0m\u001b[0m\n",
      "\u001b[1;31mTypeError\u001b[0m: 'int' object is not iterable"
     ]
    }
   ],
   "source": [
    "k = [(1,3),(4,1),(2,4)]\n",
    "n = [1,2,3,4,5,6]\n",
    "my_algo(n,k)"
   ]
  }
 ],
 "metadata": {
  "kernelspec": {
   "display_name": "Python 3",
   "language": "python",
   "name": "python3"
  },
  "language_info": {
   "codemirror_mode": {
    "name": "ipython",
    "version": 3
   },
   "file_extension": ".py",
   "mimetype": "text/x-python",
   "name": "python",
   "nbconvert_exporter": "python",
   "pygments_lexer": "ipython3",
   "version": "3.8.8"
  }
 },
 "nbformat": 4,
 "nbformat_minor": 5
}
