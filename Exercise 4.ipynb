{
 "cells": [
  {
   "cell_type": "markdown",
   "metadata": {},
   "source": [
    "## **4. Algorithmic question**"
   ]
  },
  {
   "cell_type": "markdown",
   "metadata": {},
   "source": [
    "*A number n of kids are in a camp. Between some k pairs of them (a kid can be part of more than one pairs) there are often fights. At night there are two dormitories where the kids can sleep. We want, if possible, to assign each kid in one of the two dormitories in such a way that each pair of kids that fights often is assigned to a different dormitory. (There are no space problems and the two dormitories can have different number of kids.)*\n",
    "\n",
    "*Give an algorithm that is linear in n and k that is able to answer whether such an assignment is possible and, if so, return one.*"
   ]
  },
  {
   "cell_type": "code",
   "execution_count": 20,
   "metadata": {},
   "outputs": [],
   "source": [
    "def my_algo(kids, pairs):\n",
    "    '''\n",
    "    Input:\n",
    "        - kids : list of kids in the camp\n",
    "        - pairs : list of pairs of kids\n",
    "    '''\n",
    "    \n",
    "    dorm_1 = [] # List for the first dormitory\n",
    "    dorm_2 = [] # List for the second dormitory\n",
    "    visited_kids = [] # list of visited kids\n",
    "    \n",
    "    # Focus on the pairs to divide\n",
    "    for pair in pairs:\n",
    "        if (pair[0] not in visited_kids) & (pair[1] not in visited_kids):\n",
    "            visited_kids.append(pair[0]) # Append it to the list of visited\n",
    "            dorm_1.append(pair[0]) # Assign it to the first dormitory\n",
    "            \n",
    "            visited_kids.append(pair[1]) # Append it to the list of visited\n",
    "            dorm_2.append(pair[1]) # Assign it to the second dormitory\n",
    "        \n",
    "        elif (pair[0] in visited_kids) & (pair[1] not in visited_kids):\n",
    "            # we put the other kid in the pair\n",
    "            if pair[0] in dorm_1 :\n",
    "                dorm=dorm_2\n",
    "            else :\n",
    "                dorm=dorm_1\n",
    "            visited_kids.append(pair[1])\n",
    "            dorm.append(pair[1])\n",
    "        \n",
    "        elif (pair[0] not in visited_kids) & (pair[1] in visited_kids):\n",
    "            # we put the other kid in the pair\n",
    "            if pair[1] in dorm_1 :\n",
    "                dorm=dorm_2\n",
    "            else :\n",
    "                dorm=dorm_1\n",
    "            visited_kids.append(pair[0]) \n",
    "            dorm.append(pair[0])\n",
    "           \n",
    "    # Assign all the others kids in the first dormitory\n",
    "    for kid in kids:\n",
    "        if kid not in visited_kids:\n",
    "            visited_kids.append(kid)\n",
    "            dorm_1.append(kid)\n",
    "            \n",
    "    # Check if we have divided all the fighting couples\n",
    "    check = True # Initialize a counter\n",
    "    for pair in pairs:\n",
    "        if (pair[0] in dorm_1) & (pair[1] in dorm_1):\n",
    "            print('Two fighting kids in dorm 1!')\n",
    "            check = False\n",
    "        if (pair[0] in dorm_2) & (pair[1] in dorm_2):\n",
    "            print('Two fighting kids in dorm 2!')\n",
    "            check = False\n",
    "        \n",
    "    if not check:\n",
    "        print(\"It's impossible to assign these kids in different dorms..\")\n",
    "    else:\n",
    "        print('First dorm:', dorm_1, '\\nSecond dorm:', dorm_2)\n"
   ]
  },
  {
   "cell_type": "markdown",
   "metadata": {},
   "source": [
    "Test it with different examples."
   ]
  },
  {
   "cell_type": "code",
   "execution_count": 21,
   "metadata": {},
   "outputs": [
    {
     "name": "stdout",
     "output_type": "stream",
     "text": [
      "First dorm: [1, 2, 5, 6] \n",
      "Second dorm: [3, 4]\n"
     ]
    }
   ],
   "source": [
    "pairs = [(1,3),(4,1),(2,4)]\n",
    "kids = [1,2,3,4,5,6]\n",
    "my_algo(kids, pairs)"
   ]
  },
  {
   "cell_type": "code",
   "execution_count": 22,
   "metadata": {
    "scrolled": true
   },
   "outputs": [
    {
     "name": "stdout",
     "output_type": "stream",
     "text": [
      "Two fighting kids in dorm 2!\n",
      "It's impossible to assign these kids in different dorms..\n"
     ]
    }
   ],
   "source": [
    "pairs = [(1,3),(4,1),(3,4)]\n",
    "kids = [1,2,3,4,5,6]\n",
    "my_algo(kids, pairs)"
   ]
  },
  {
   "cell_type": "code",
   "execution_count": 24,
   "metadata": {},
   "outputs": [
    {
     "name": "stdout",
     "output_type": "stream",
     "text": [
      "Two fighting kids in dorm 1!\n",
      "It's impossible to assign these kids in different dorms..\n"
     ]
    }
   ],
   "source": [
    "pairs = [(1,3),(4,1),(2,4),(2,1)]\n",
    "kids = [1,2,3,4,5,6]\n",
    "my_algo(kids, pairs)"
   ]
  },
  {
   "cell_type": "code",
   "execution_count": null,
   "metadata": {},
   "outputs": [],
   "source": []
  }
 ],
 "metadata": {
  "kernelspec": {
   "display_name": "Python 3",
   "language": "python",
   "name": "python3"
  },
  "language_info": {
   "codemirror_mode": {
    "name": "ipython",
    "version": 3
   },
   "file_extension": ".py",
   "mimetype": "text/x-python",
   "name": "python",
   "nbconvert_exporter": "python",
   "pygments_lexer": "ipython3",
   "version": "3.7.4"
  }
 },
 "nbformat": 4,
 "nbformat_minor": 5
}
