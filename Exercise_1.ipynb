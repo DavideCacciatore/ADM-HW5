{
  "cells": [
    {
      "cell_type": "code",
      "source": [
        "## Mount drive\n",
        "from google.colab import drive\n",
        "drive.mount('/content/drive')"
      ],
      "metadata": {
        "colab": {
          "base_uri": "https://localhost:8080/"
        },
        "id": "EDGJn95Osmlo",
        "outputId": "b4c7685c-ab23-4106-f493-c21159dcc229"
      },
      "execution_count": 1,
      "outputs": [
        {
          "output_type": "stream",
          "name": "stdout",
          "text": [
            "Drive already mounted at /content/drive; to attempt to forcibly remount, call drive.mount(\"/content/drive\", force_remount=True).\n"
          ]
        }
      ]
    },
    {
      "cell_type": "code",
      "source": [
        "## Set path\n",
        "import os\n",
        "os.chdir('/content/drive/MyDrive/ADM/Homework V/Data')"
      ],
      "metadata": {
        "id": "M7TC2Dv9tQIp"
      },
      "execution_count": 2,
      "outputs": []
    },
    {
      "cell_type": "code",
      "execution_count": 3,
      "metadata": {
        "id": "CNKK15S4siQH"
      },
      "outputs": [],
      "source": [
        "## Import Utils\n",
        "import pandas as pd\n",
        "import numpy as np\n",
        "import matplotlib.pyplot as plt\n",
        "import networkx as nx\n",
        "from datetime import datetime, date"
      ]
    },
    {
      "cell_type": "code",
      "execution_count": 4,
      "metadata": {
        "id": "eVgLfivrsiQM"
      },
      "outputs": [],
      "source": [
        "## Load Data\n",
        "with open('sx-stackoverflow-a2q.txt') as f:\n",
        "    a2q = f.readlines()"
      ]
    },
    {
      "cell_type": "code",
      "execution_count": 5,
      "metadata": {
        "id": "LA5lHCIusiQN"
      },
      "outputs": [],
      "source": [
        "## Load Data\n",
        "with open('sx-stackoverflow-c2q.txt') as f:\n",
        "    c2q = f.readlines()"
      ]
    },
    {
      "cell_type": "code",
      "execution_count": 6,
      "metadata": {
        "id": "5tyoh6LssiQN"
      },
      "outputs": [],
      "source": [
        "## Load Data\n",
        "with open('sx-stackoverflow-c2a.txt') as f:\n",
        "    c2a = f.readlines()"
      ]
    },
    {
      "cell_type": "code",
      "execution_count": 7,
      "metadata": {
        "id": "AhS6xBkjsiQO"
      },
      "outputs": [],
      "source": [
        "## Init Graph\n",
        "G = nx.DiGraph()"
      ]
    },
    {
      "cell_type": "code",
      "execution_count": 8,
      "metadata": {
        "colab": {
          "base_uri": "https://localhost:8080/"
        },
        "id": "CjS_tLbnsiQO",
        "outputId": "5cf76247-e550-47f4-e4ce-9f1865fa943f"
      },
      "outputs": [
        {
          "output_type": "execute_result",
          "data": {
            "text/plain": [
              "17823525"
            ]
          },
          "metadata": {},
          "execution_count": 8
        }
      ],
      "source": [
        "len(a2q)"
      ]
    },
    {
      "cell_type": "code",
      "execution_count": 9,
      "metadata": {
        "id": "SWGClBGasiQP",
        "colab": {
          "base_uri": "https://localhost:8080/"
        },
        "outputId": "7506eb46-68d0-4838-f239-beadd810760f"
      },
      "outputs": [
        {
          "output_type": "stream",
          "name": "stderr",
          "text": [
            "\n",
            "KeyboardInterrupt\n",
            "\n"
          ]
        }
      ],
      "source": [
        "## Merge Graph\n",
        "t_start = datetime(2009, 10, 1)\n",
        "t_end = datetime(2010, 10, 1)\n",
        "\n",
        "for line in a2q:\n",
        "    line = line.replace('\\n', '')\n",
        "    line = line.split(' ') \n",
        "    t = datetime.fromtimestamp(int(line[2]))\n",
        "    t_truncated = date(t.year,t.month, t.day)\n",
        "    if t_start <= t < t_end :\n",
        "        if G.has_edge(line[0], line[1]) :\n",
        "            G[line[0]][line[1]]['weight'] += 0.6\n",
        "            G[line[0]][line[1]]['timestamp'].append(t_truncated)\n",
        "        else :\n",
        "            G.add_edge(line[0], line[1], weight=0.6)\n",
        "            G[line[0]][line[1]]['timestamp']=[t_truncated]\n",
        "\n",
        "for line in c2q:\n",
        "    line = line.replace('\\n', '')\n",
        "    line = line.split(' ') \n",
        "    t = datetime.fromtimestamp(int(line[2]))\n",
        "    t_truncated = date(t.year,t.month, t.day)\n",
        "    if t_start <= t < t_end :\n",
        "        if G.has_edge(line[0], line[1]) :\n",
        "            G[line[0]][line[1]]['weight'] += 0.3\n",
        "            G[line[0]][line[1]]['timestamp'].append(t_truncated)\n",
        "        else :\n",
        "            G.add_edge(line[0], line[1], weight=0.3)\n",
        "            G[line[0]][line[1]]['timestamp']=[t_truncated]\n",
        "\n",
        "for line in c2a:\n",
        "    line = line.replace('\\n', '')\n",
        "    line = line.split(' ') \n",
        "    t = datetime.fromtimestamp(int(line[2]))\n",
        "    t_truncated = date(t.year,t.month, t.day)\n",
        "    if t_start <= t < t_end :\n",
        "        if G.has_edge(line[0], line[1]) :\n",
        "            G[line[0]][line[1]]['weight'] += 0.1\n",
        "            G[line[0]][line[1]]['timestamp'].append(t_truncated)\n",
        "        else :\n",
        "            G.add_edge(line[0], line[1], weight=0.1)\n",
        "            G[line[0]][line[1]]['timestamp']=[t_truncated]"
      ]
    },
    {
      "cell_type": "code",
      "execution_count": null,
      "metadata": {
        "id": "zT2ByGMOsiQR"
      },
      "outputs": [],
      "source": [
        "t_truncated"
      ]
    },
    {
      "cell_type": "code",
      "execution_count": null,
      "metadata": {
        "scrolled": true,
        "id": "p59iwkASsiQR"
      },
      "outputs": [],
      "source": [
        "G.edges(data=True)"
      ]
    },
    {
      "cell_type": "markdown",
      "source": [
        "#### Functionality 1"
      ],
      "metadata": {
        "id": "OZVIRQiXvJTu"
      }
    },
    {
      "cell_type": "code",
      "execution_count": 32,
      "metadata": {
        "id": "_SbfzZ4OsiQS"
      },
      "outputs": [],
      "source": [
        "## Graph 1\n",
        "\n",
        "## Init\n",
        "G_a2q = nx.DiGraph()\n",
        "\n",
        "t_start = datetime(2010, 10, 1)\n",
        "t_end = datetime(2010, 11, 1)\n",
        "\n",
        "## Import data\n",
        "for line in a2q:\n",
        "    line = line.replace('\\n', '')\n",
        "    line = line.split(' ') \n",
        "    t = datetime.fromtimestamp(int(line[2]))\n",
        "    t_truncated = date(t.year,t.month, t.day)\n",
        "    if t_start <= t < t_end :\n",
        "        if G_a2q.has_edge(line[0], line[1]) :\n",
        "            G_a2q[line[0]][line[1]]['weight'] += 0.6\n",
        "            G_a2q[line[0]][line[1]]['timestamp'].append(t_truncated)\n",
        "        else :\n",
        "            G_a2q.add_edge(line[0], line[1], weight=0.6)\n",
        "            G_a2q[line[0]][line[1]]['timestamp']=[t_truncated]"
      ]
    },
    {
      "cell_type": "code",
      "source": [
        "## Graph 2\n",
        "\n",
        "## Init\n",
        "G_c2q = nx.DiGraph()\n",
        "\n",
        "## Import data\n",
        "for line in c2q:\n",
        "    line = line.replace('\\n', '')\n",
        "    line = line.split(' ') \n",
        "    t = datetime.fromtimestamp(int(line[2]))\n",
        "    t_truncated = date(t.year,t.month, t.day)\n",
        "    if t_start <= t < t_end :\n",
        "        if G_c2q.has_edge(line[0], line[1]) :\n",
        "            G_c2q[line[0]][line[1]]['weight'] += 0.3\n",
        "            G_c2q[line[0]][line[1]]['timestamp'].append(t_truncated)\n",
        "        else :\n",
        "            G_c2q.add_edge(line[0], line[1], weight=0.3)\n",
        "            G_c2q[line[0]][line[1]]['timestamp']=[t_truncated]"
      ],
      "metadata": {
        "id": "jahmyN3ivu6b"
      },
      "execution_count": null,
      "outputs": []
    },
    {
      "cell_type": "code",
      "source": [
        "## Graph 3\n",
        "\n",
        "## Init\n",
        "G_c2a = nx.DiGraph()\n",
        "\n",
        "## Import data\n",
        "for line in c2a:\n",
        "    line = line.replace('\\n', '')\n",
        "    line = line.split(' ') \n",
        "    t = datetime.fromtimestamp(int(line[2]))\n",
        "    t_truncated = date(t.year,t.month, t.day)\n",
        "    if t_start <= t < t_end :\n",
        "        if G_c2a.has_edge(line[0], line[1]) :\n",
        "            G_c2a[line[0]][line[1]]['weight'] += 0.1\n",
        "            G_c2a[line[0]][line[1]]['timestamp'].append(t_truncated)\n",
        "        else :\n",
        "            G_c2a.add_edge(line[0], line[1], weight=0.1)\n",
        "            G_c2a[line[0]][line[1]]['timestamp']=[t_truncated]"
      ],
      "metadata": {
        "id": "hOKmuJ1XvvDY"
      },
      "execution_count": null,
      "outputs": []
    },
    {
      "cell_type": "code",
      "source": [
        "## Implementation\n",
        "def isdirected(Graph):\n",
        "  for i in Graph.edges:\n",
        "    t = [i[0], i[1]]\n",
        "    for j in Graph.edges:\n",
        "      x = [j[0], j[1]]\n",
        "      if t == x.reverse():\n",
        "        return True\n",
        "  return False"
      ],
      "metadata": {
        "id": "hllOqG_7wWJ9"
      },
      "execution_count": 33,
      "outputs": []
    },
    {
      "cell_type": "code",
      "source": [
        "def isdirected2(Graph):\n",
        "  sum = 0\n",
        "  for line in nx.generate_adjlist(Graph):\n",
        "    sum += len(line)-1\n",
        "  print(sum)\n",
        "  print(len(Graph.edges))\n",
        "  if sum == len(Graph.edges):\n",
        "    return True\n",
        "  else:\n",
        "    return False\n"
      ],
      "metadata": {
        "id": "6pUOT3xWFgDB"
      },
      "execution_count": 45,
      "outputs": []
    },
    {
      "cell_type": "code",
      "source": [
        "l = []\n",
        "for line in nx.generate_adjlist(G_a2q):\n",
        "  l.append(line.split(' '))\n",
        "  print(l)"
      ],
      "metadata": {
        "colab": {
          "base_uri": "https://localhost:8080/"
        },
        "id": "qiADnNLwJZYj",
        "outputId": "48bfdbd1-2b64-4007-970f-92b85452ffb7"
      },
      "execution_count": null,
      "outputs": [
        {
          "output_type": "stream",
          "name": "stderr",
          "text": [
            "IOPub data rate exceeded.\n",
            "The notebook server will temporarily stop sending output\n",
            "to the client in order to avoid crashing it.\n",
            "To change this limit, set the config variable\n",
            "`--NotebookApp.iopub_data_rate_limit`.\n",
            "\n",
            "Current values:\n",
            "NotebookApp.iopub_data_rate_limit=1000000.0 (bytes/sec)\n",
            "NotebookApp.rate_limit_window=3.0 (secs)\n",
            "\n"
          ]
        }
      ]
    },
    {
      "cell_type": "code",
      "source": [
        "## Graph directed or not\n",
        "isdirected2(G_a2q)"
      ],
      "metadata": {
        "colab": {
          "base_uri": "https://localhost:8080/"
        },
        "id": "-JschTBJ2bWD",
        "outputId": "a87cba48-800a-4eb0-fdc8-ccd93e89e77c"
      },
      "execution_count": 46,
      "outputs": [
        {
          "output_type": "stream",
          "name": "stdout",
          "text": [
            "1071956\n",
            "123084\n"
          ]
        },
        {
          "output_type": "execute_result",
          "data": {
            "text/plain": [
              "False"
            ]
          },
          "metadata": {},
          "execution_count": 46
        }
      ]
    },
    {
      "cell_type": "code",
      "source": [
        "## Check\n",
        "nx.is_directed(G_a2q)"
      ],
      "metadata": {
        "colab": {
          "base_uri": "https://localhost:8080/"
        },
        "id": "r9BftM5n2gEN",
        "outputId": "cb78d6f0-551b-476b-b063-c4451aaabefb"
      },
      "execution_count": 37,
      "outputs": [
        {
          "output_type": "execute_result",
          "data": {
            "text/plain": [
              "True"
            ]
          },
          "metadata": {},
          "execution_count": 37
        }
      ]
    }
  ],
  "metadata": {
    "kernelspec": {
      "display_name": "Python 3",
      "language": "python",
      "name": "python3"
    },
    "language_info": {
      "codemirror_mode": {
        "name": "ipython",
        "version": 3
      },
      "file_extension": ".py",
      "mimetype": "text/x-python",
      "name": "python",
      "nbconvert_exporter": "python",
      "pygments_lexer": "ipython3",
      "version": "3.8.8"
    },
    "colab": {
      "name": "Exercise 1.ipynb",
      "provenance": [],
      "collapsed_sections": []
    }
  },
  "nbformat": 4,
  "nbformat_minor": 0
}