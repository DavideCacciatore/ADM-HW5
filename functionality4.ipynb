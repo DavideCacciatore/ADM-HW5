{
 "cells": [
  {
   "cell_type": "code",
   "execution_count": 1,
   "metadata": {
    "colab": {
     "base_uri": "https://localhost:8080/"
    },
    "id": "EDGJn95Osmlo",
    "outputId": "b4c7685c-ab23-4106-f493-c21159dcc229"
   },
   "outputs": [
    {
     "name": "stdout",
     "output_type": "stream",
     "text": [
      "Drive already mounted at /content/drive; to attempt to forcibly remount, call drive.mount(\"/content/drive\", force_remount=True).\n"
     ]
    }
   ],
   "source": [
    "## Mount drive\n",
    "from google.colab import drive\n",
    "drive.mount('/content/drive')"
   ]
  },
  {
   "cell_type": "code",
   "execution_count": 2,
   "metadata": {
    "id": "M7TC2Dv9tQIp"
   },
   "outputs": [],
   "source": [
    "## Set path\n",
    "import os\n",
    "os.chdir('/content/drive/MyDrive/ADM/Homework V/Data')"
   ]
  },
  {
   "cell_type": "code",
   "execution_count": 1,
   "metadata": {
    "id": "CNKK15S4siQH"
   },
   "outputs": [],
   "source": [
    "## Import Utils\n",
    "import pandas as pd\n",
    "import numpy as np\n",
    "import matplotlib.pyplot as plt\n",
    "import networkx as nx\n",
    "from datetime import datetime, date\n",
    "import pickle"
   ]
  },
  {
   "cell_type": "code",
   "execution_count": 2,
   "metadata": {
    "id": "eVgLfivrsiQM"
   },
   "outputs": [],
   "source": [
    "## Load Data\n",
    "with open('sx-stackoverflow-a2q.txt') as f:\n",
    "    a2q = f.readlines()"
   ]
  },
  {
   "cell_type": "code",
   "execution_count": 3,
   "metadata": {
    "id": "LA5lHCIusiQN"
   },
   "outputs": [],
   "source": [
    "## Load Data\n",
    "with open('sx-stackoverflow-c2q.txt') as f:\n",
    "    c2q = f.readlines()"
   ]
  },
  {
   "cell_type": "code",
   "execution_count": 4,
   "metadata": {
    "id": "5tyoh6LssiQN"
   },
   "outputs": [],
   "source": [
    "## Load Data\n",
    "with open('sx-stackoverflow-c2a.txt') as f:\n",
    "    c2a = f.readlines()"
   ]
  },
  {
   "cell_type": "code",
   "execution_count": 5,
   "metadata": {
    "id": "AhS6xBkjsiQO"
   },
   "outputs": [],
   "source": [
    "## Init Graph\n",
    "G = nx.DiGraph()"
   ]
  },
  {
   "cell_type": "code",
   "execution_count": 6,
   "metadata": {
    "colab": {
     "base_uri": "https://localhost:8080/"
    },
    "id": "CjS_tLbnsiQO",
    "outputId": "5cf76247-e550-47f4-e4ce-9f1865fa943f"
   },
   "outputs": [
    {
     "data": {
      "text/plain": [
       "17823525"
      ]
     },
     "execution_count": 6,
     "metadata": {},
     "output_type": "execute_result"
    }
   ],
   "source": [
    "len(a2q)"
   ]
  },
  {
   "cell_type": "code",
   "execution_count": 7,
   "metadata": {
    "colab": {
     "base_uri": "https://localhost:8080/"
    },
    "id": "SWGClBGasiQP",
    "outputId": "7506eb46-68d0-4838-f239-beadd810760f"
   },
   "outputs": [
    {
     "name": "stdout",
     "output_type": "stream",
     "text": [
      "1\n",
      "1\n"
     ]
    }
   ],
   "source": [
    "## Merge Graph\n",
    "t_start = datetime(2009, 10, 1)\n",
    "t_end = datetime(2010, 10, 1)\n",
    "\n",
    "for line in a2q:\n",
    "    line = line.replace('\\n', '')\n",
    "    line = line.split(' ') \n",
    "    t = datetime.fromtimestamp(int(line[2]))\n",
    "    t_truncated = date(t.year,t.month, t.day)\n",
    "    if t_start <= t < t_end :\n",
    "        if G.has_edge(line[0], line[1]) :\n",
    "            G[line[0]][line[1]]['weight'] += 0.6\n",
    "            G[line[0]][line[1]]['timestamp'].append(t_truncated)\n",
    "        else :\n",
    "            G.add_edge(line[0], line[1], weight=0.6)\n",
    "            G[line[0]][line[1]]['timestamp']=[t_truncated]\n",
    "            \n",
    "for line in c2q:\n",
    "    line = line.replace('\\n', '')\n",
    "    line = line.split(' ') \n",
    "    t = datetime.fromtimestamp(int(line[2]))\n",
    "    t_truncated = date(t.year,t.month, t.day)\n",
    "    if t_start <= t < t_end :\n",
    "        if G.has_edge(line[0], line[1]) :\n",
    "            G[line[0]][line[1]]['weight'] += 0.3\n",
    "            G[line[0]][line[1]]['timestamp'].append(t_truncated)\n",
    "        else :\n",
    "            G.add_edge(line[0], line[1], weight=0.3)\n",
    "            G[line[0]][line[1]]['timestamp']=[t_truncated]\n",
    "\n",
    "for line in c2a:\n",
    "    line = line.replace('\\n', '')\n",
    "    line = line.split(' ') \n",
    "    t = datetime.fromtimestamp(int(line[2]))\n",
    "    t_truncated = date(t.year,t.month, t.day)\n",
    "    if t_start <= t < t_end :\n",
    "        if G.has_edge(line[0], line[1]) :\n",
    "            G[line[0]][line[1]]['weight'] += 0.1\n",
    "            G[line[0]][line[1]]['timestamp'].append(t_truncated)\n",
    "        else :\n",
    "            G.add_edge(line[0], line[1], weight=0.1)\n",
    "            G[line[0]][line[1]]['timestamp']=[t_truncated]"
   ]
  },
  {
   "cell_type": "code",
   "execution_count": 13,
   "metadata": {},
   "outputs": [],
   "source": [
    "with open('G.pkl', 'wb') as f:\n",
    "    pickle.dump(G, f)"
   ]
  },
  {
   "cell_type": "markdown",
   "metadata": {},
   "source": [
    "### Functionality 4"
   ]
  },
  {
   "cell_type": "code",
   "execution_count": 2,
   "metadata": {},
   "outputs": [],
   "source": [
    "with open('G.pkl', 'rb') as f:\n",
    "    G = pickle.load(f)"
   ]
  },
  {
   "cell_type": "code",
   "execution_count": 3,
   "metadata": {},
   "outputs": [],
   "source": [
    "def BFS(G, source, target, parent):\n",
    "\n",
    "    visited ={key: False for key in nx.nodes(G)}\n",
    "    queue=[]\n",
    "    queue.append(source)\n",
    "    visited[source] = True\n",
    "\n",
    "    # Standard BFS Loop\n",
    "    while queue:\n",
    "        u = queue.pop(0)\n",
    "\n",
    "        for ind in G[u]:\n",
    "            if (visited[ind] == False) and (G[u][ind]['weight'] > 0) :\n",
    "                queue.append(ind)\n",
    "                visited[ind] = True\n",
    "                parent[ind] = u\n",
    "\n",
    "    return visited[target] #boolean\n",
    "\n",
    "def dfs(G,s,visited):\n",
    "    visited[s]=True\n",
    "    for node in G[s]:\n",
    "        if G[s][node][\"weight\"] > 0 and not visited[node]:\n",
    "            dfs(G,node,visited)\n"
   ]
  },
  {
   "cell_type": "code",
   "execution_count": 4,
   "metadata": {},
   "outputs": [],
   "source": [
    "def func4(int1_start, int1_end, int2_start, int2_end, user1, user2):\n",
    "    \"\"\"\n",
    "    input:\n",
    "    - Two different intervals of time (disjoint or not)\n",
    "    - Two users which are unique to each interval of time \n",
    "        - user_1 only appears in interval 1\n",
    "        - user_2 only appears in interval 2)\n",
    "        \n",
    "    output :\n",
    "    - Minimum number of links (considering their weights) required to disconnect the two graphs.\n",
    "    \"\"\"\n",
    "    \n",
    "    #create the subgraph\n",
    "    subG = nx.DiGraph()\n",
    "    \n",
    "    #add egdes/nodes if it belongs to one of the intervals of time \n",
    "    for edge in list(G.edges):\n",
    "        if (int1_start <= G.edges[edge[0], edge[1]]['timestamp'][0] < int1_end) or (int2_start <= G.edges[edge[0], edge[1]]['timestamp'][0] < int2_end):\n",
    "            subG.add_edge(edge[0], edge[1])\n",
    "            subG[edge[0]][edge[1]]['weight'] = G.edges[edge[0], edge[1]]['weight']\n",
    "            subG[edge[0]][edge[1]]['timestamp'] = G.edges[edge[0], edge[1]]['timestamp']\n",
    "\n",
    "    subG_i=subG.copy()\n",
    "    \n",
    "    # This array is filled by BFS and to store path\n",
    "    parent = {key: -1 for key in nx.nodes(G)}\n",
    "    max_flow = 0 \n",
    "    while BFS(subG, user1, user2, parent) :\n",
    "\n",
    "        # Find minimum residual capacity of the edges along the\n",
    "        # path filled by BFS. Or we can say find the maximum flow\n",
    "        # through the path found.\n",
    "        path_flow = float(\"Inf\")\n",
    "        s = user2\n",
    "        while(s != user1):\n",
    "            path_flow = min(path_flow, subG[parent[s]][s][\"weight\"])\n",
    "            s = parent[s]\n",
    "\n",
    "        # Add path flow to overall flow\n",
    "        max_flow += path_flow\n",
    "\n",
    "        # update residual capacities of the edges and reverse edges\n",
    "        # along the path\n",
    "        v = user2\n",
    "        while(v != user1):\n",
    "            u = parent[v]\n",
    "            subG[u][v][\"weight\"] -= path_flow\n",
    "            #g[v][u][\"weight\"] += path_flow\n",
    "            v = parent[v]\n",
    "\n",
    "    visited ={key: False for key in nx.nodes(subG)}\n",
    "    dfs(subG,s,visited)\n",
    "\n",
    "    # print the edges which initially had weights\n",
    "    # but now have 0 weight\n",
    "    count = 0\n",
    "    edge_to_remove = []\n",
    "    for i in nx.nodes(subG):\n",
    "        for j in subG[i]:\n",
    "            if (subG[i][j][\"weight\"] == 0) and (visited[i]):\n",
    "                print(str(i) + \" - \" + str(j))\n",
    "                edge_to_remove.append((i, j))\n",
    "                count+=1\n",
    "    print(count)\n",
    "    \n",
    "    return edge_to_remove, subG_i, count"
   ]
  },
  {
   "cell_type": "code",
   "execution_count": 198,
   "metadata": {},
   "outputs": [
    {
     "name": "stdout",
     "output_type": "stream",
     "text": [
      "19068 - 102529\n",
      "19068 - 411247\n",
      "19068 - 282000\n",
      "408089 - 361427\n",
      "4\n"
     ]
    }
   ],
   "source": [
    "int1_start = date(2010, 1, 1)\n",
    "int1_end = date(2010, 1, 2)\n",
    "\n",
    "int2_start = date(2010, 9, 1)\n",
    "int2_end = date(2010, 9, 2)\n",
    "\n",
    "user1 = '19068'\n",
    "user2 = '399510'\n",
    "\n",
    "edge_to_remove, subG_i, count = func4(int1_start, int1_end, int2_start, int2_end, user1, user2)"
   ]
  },
  {
   "cell_type": "code",
   "execution_count": 199,
   "metadata": {},
   "outputs": [
    {
     "data": {
      "text/plain": [
       "[('19068', '102529'),\n",
       " ('19068', '411247'),\n",
       " ('19068', '282000'),\n",
       " ('408089', '361427')]"
      ]
     },
     "execution_count": 199,
     "metadata": {},
     "output_type": "execute_result"
    }
   ],
   "source": [
    "edge_to_remove"
   ]
  },
  {
   "cell_type": "markdown",
   "metadata": {},
   "source": [
    "## Not sure that it is correct So i did an easier test "
   ]
  },
  {
   "cell_type": "code",
   "execution_count": 10,
   "metadata": {},
   "outputs": [
    {
     "data": {
      "image/png": "[encoded data removed]",
      "text/plain": [
       "<Figure size 432x288 with 1 Axes>"
      ]
     },
     "metadata": {},
     "output_type": "display_data"
    }
   ],
   "source": [
    "g=nx.DiGraph()\n",
    "g.add_edge('A','B', weight=1)\n",
    "g.add_edge('A','C', weight=1)\n",
    "g.add_edge('A','D', weight=1)\n",
    "g.add_edge('B','E', weight=1)\n",
    "g.add_edge('C','E', weight=1)\n",
    "g.add_edge('D','E', weight=1)\n",
    "g.add_edge('E','F', weight=1)\n",
    "g.add_edge('F','G', weight=1)\n",
    "g.add_edge('F','H', weight=1)\n",
    "g.add_edge('F','I', weight=1)\n",
    "g.add_edge('G','J', weight=1)\n",
    "g.add_edge('H','J', weight=1)\n",
    "g.add_edge('I','J', weight=1)\n",
    "\n",
    "plt.clf()\n",
    "nx.draw(g, with_labels=True)\n",
    "plt.show()"
   ]
  },
  {
   "cell_type": "code",
   "execution_count": 11,
   "metadata": {},
   "outputs": [
    {
     "name": "stdout",
     "output_type": "stream",
     "text": [
      "A - B\n",
      "B - E\n",
      "E - F\n"
     ]
    }
   ],
   "source": [
    "# This array is filled by BFS and to store path\n",
    "user1 = 'A'\n",
    "user2 = 'J'\n",
    "g_i = g.copy()\n",
    "parent = {key: -1 for key in nx.nodes(g)}\n",
    "max_flow = 0 \n",
    "while BFS(g, user1, user2, parent) :\n",
    "    # Find minimum residual capacity of the edges along the\n",
    "    # path filled by BFS. Or we can say find the maximum flow\n",
    "    # through the path found.\n",
    "    path_flow = float(\"Inf\")\n",
    "    s = user2\n",
    "    while(s != user1):\n",
    "        path_flow = min(path_flow, g[parent[s]][s][\"weight\"])\n",
    "        s = parent[s]\n",
    "    # Add path flow to overall flow\n",
    "    max_flow += path_flow\n",
    "\n",
    "    # update residual capacities of the edges and reverse edges\n",
    "    # along the path\n",
    "    v = user2 \n",
    "    \n",
    "    while(v != user1):\n",
    "        u = parent[v]\n",
    "        g[u][v]['weight'] = max(0, g[u][v]['weight'] - path_flow)\n",
    "            \n",
    "        if not g.has_edge(v,u) :\n",
    "            g.add_edge(v,u) \n",
    "            g[v][u][\"weight\"] = 0\n",
    "        g[v][u][\"weight\"] += path_flow\n",
    "        \n",
    "        v = parent[v]\n",
    "\n",
    "visited ={key: False for key in nx.nodes(g)}\n",
    "dfs(g,user1,visited)\n",
    "\n",
    "# print the edges which initially had weights\n",
    "# but now have 0 weight\n",
    "for i in nx.nodes(g):\n",
    "    for j in g[i] :\n",
    "        if (g[i][j][\"weight\"] == 0)  and (g_i[i][j][\"weight\"] > 0) and (visited[i]):\n",
    "            print(str(i) + \" - \" + str(j))\n"
   ]
  },
  {
   "cell_type": "markdown",
   "metadata": {},
   "source": [
    "## only E-F is expected but two others are returned (A-B and B-E)"
   ]
  },
  {
   "cell_type": "code",
   "execution_count": 366,
   "metadata": {},
   "outputs": [
    {
     "data": {
      "image/png": "[encoded data removed]",
      "text/plain": [
       "<Figure size 432x288 with 1 Axes>"
      ]
     },
     "metadata": {},
     "output_type": "display_data"
    }
   ],
   "source": [
    "plt.clf()\n",
    "nx.draw(g, with_labels=True)\n",
    "plt.show()"
   ]
  },
  {
   "cell_type": "code",
   "execution_count": null,
   "metadata": {},
   "outputs": [],
   "source": []
  }
 ],
 "metadata": {
  "colab": {
   "collapsed_sections": [],
   "name": "Exercise 1.ipynb",
   "provenance": []
  },
  "kernelspec": {
   "display_name": "Python 3",
   "language": "python",
   "name": "python3"
  },
  "language_info": {
   "codemirror_mode": {
    "name": "ipython",
    "version": 3
   },
   "file_extension": ".py",
   "mimetype": "text/x-python",
   "name": "python",
   "nbconvert_exporter": "python",
   "pygments_lexer": "ipython3",
   "version": "3.7.4"
  }
 },
 "nbformat": 4,
 "nbformat_minor": 1
}
