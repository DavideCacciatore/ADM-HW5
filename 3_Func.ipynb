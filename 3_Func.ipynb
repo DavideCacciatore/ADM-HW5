{
 "cells": [
  {
   "cell_type": "code",
   "execution_count": 1,
   "id": "189b0baa",
   "metadata": {},
   "outputs": [],
   "source": [
    "## Import Utils\n",
    "import pandas as pd\n",
    "import numpy as np\n",
    "import matplotlib.pyplot as plt\n",
    "import networkx as nx\n",
    "from datetime import datetime, date"
   ]
  },
  {
   "cell_type": "code",
   "execution_count": 2,
   "id": "7f25aa13",
   "metadata": {},
   "outputs": [],
   "source": [
    "## Load Data (answers to questions)\n",
    "with open('sx-stackoverflow-a2q.txt') as f:\n",
    "    a2q = f.readlines()"
   ]
  },
  {
   "cell_type": "code",
   "execution_count": 3,
   "id": "bcb0e80b",
   "metadata": {},
   "outputs": [],
   "source": [
    "## Load Data (comments to questions)\n",
    "with open('sx-stackoverflow-c2q.txt') as f:\n",
    "    c2q = f.readlines()"
   ]
  },
  {
   "cell_type": "code",
   "execution_count": 4,
   "id": "49294ca6",
   "metadata": {},
   "outputs": [],
   "source": [
    "## Load Data (comments to answers)\n",
    "with open('sx-stackoverflow-c2a.txt') as f:\n",
    "    c2a = f.readlines()"
   ]
  },
  {
   "cell_type": "code",
   "execution_count": 5,
   "id": "69843a34",
   "metadata": {},
   "outputs": [],
   "source": [
    "## Init Graph\n",
    "G = nx.DiGraph()"
   ]
  },
  {
   "cell_type": "code",
   "execution_count": null,
   "id": "aa0da11a",
   "metadata": {},
   "outputs": [],
   "source": [
    "len(a2q)"
   ]
  },
  {
   "cell_type": "code",
   "execution_count": 6,
   "id": "02fa4452",
   "metadata": {},
   "outputs": [],
   "source": [
    "## Merge Graph about 1 year\n",
    "t_start = datetime(2009, 10, 1)\n",
    "t_end = datetime(2010, 10, 1)\n",
    "for line in a2q:\n",
    "    line = line.replace('\\n', '')\n",
    "    line = line.split(' ') \n",
    "    t = datetime.fromtimestamp(int(line[2]))\n",
    "    t_truncated = date(t.year,t.month, t.day)\n",
    "    if t_start <= t < t_end :\n",
    "        if G.has_edge(line[0], line[1]) :\n",
    "            G[line[0]][line[1]]['weight'] += 0.6\n",
    "            G[line[0]][line[1]]['timestamp'].append(t_truncated)\n",
    "        else :\n",
    "            G.add_edge(line[0], line[1], weight=0.6)\n",
    "            G[line[0]][line[1]]['timestamp']=[t_truncated]\n",
    "\n",
    "for line in c2q:\n",
    "    line = line.replace('\\n', '')\n",
    "    line = line.split(' ') \n",
    "    t = datetime.fromtimestamp(int(line[2]))\n",
    "    t_truncated = date(t.year,t.month, t.day)\n",
    "    if t_start <= t < t_end :\n",
    "        if G.has_edge(line[0], line[1]) :\n",
    "            G[line[0]][line[1]]['weight'] += 0.3\n",
    "            G[line[0]][line[1]]['timestamp'].append(t_truncated)\n",
    "        else :\n",
    "            G.add_edge(line[0], line[1], weight=0.3)\n",
    "            G[line[0]][line[1]]['timestamp']=[t_truncated]\n",
    "\n",
    "for line in c2a:\n",
    "    line = line.replace('\\n', '')\n",
    "    line = line.split(' ') \n",
    "    t = datetime.fromtimestamp(int(line[2]))\n",
    "    t_truncated = date(t.year,t.month, t.day)\n",
    "    if t_start <= t < t_end :\n",
    "        if G.has_edge(line[0], line[1]) :\n",
    "            G[line[0]][line[1]]['weight'] += 0.1\n",
    "            G[line[0]][line[1]]['timestamp'].append(t_truncated)\n",
    "        else :\n",
    "            G.add_edge(line[0], line[1], weight=0.1)\n",
    "            G[line[0]][line[1]]['timestamp']=[t_truncated]"
   ]
  },
  {
   "cell_type": "markdown",
   "id": "e8aba536",
   "metadata": {},
   "source": [
    "Dijkstra's shortest path algorithm works as follows:\n",
    "\n",
    "> Let distance of start vertex from start vertex = *0*. \n",
    "\n",
    "> Let distance of all other vertices from start = *+ Inf*.\n",
    "\n",
    "**Repeat**\n",
    "1. Visit the unvisited vertex with the smallest known distance from the start vertex.\n",
    "2. For the current vertex, examine its unvisited neighbours.\n",
    "3. For the current vertex, calculate distance of each neighbour from start vertex.\n",
    "4. If the calculated distance of a vertex is less than the known distance, update the shortest distance.\n",
    "5. Update the previous vertex for each of the updated distances.\n",
    "6. Add the current vertex to the ist of a visited vertices.\n",
    "\n",
    "Until all vertices visited."
   ]
  },
  {
   "cell_type": "code",
   "execution_count": 7,
   "id": "20f03dc0",
   "metadata": {},
   "outputs": [],
   "source": [
    "## SubGraph 1 day\n",
    "time_start = date(2010, 1, 6)\n",
    "time_end = date(2010, 1, 7)\n",
    "subG = nx.DiGraph()\n",
    "for edge in list(G.edges):\n",
    "    if time_start <= G.edges[edge[0], edge[1]]['timestamp'][0] < time_end:\n",
    "        subG.add_edge(edge[0], edge[1])\n",
    "        subG[edge[0]][edge[1]]['weight'] = G.edges[edge[0], edge[1]]['weight']\n",
    "        subG[edge[0]][edge[1]]['timestamp'] = G.edges[edge[0], edge[1]]['timestamp']\n"
   ]
  },
  {
   "cell_type": "code",
   "execution_count": 8,
   "id": "8747b506",
   "metadata": {},
   "outputs": [],
   "source": [
    "import math"
   ]
  },
  {
   "cell_type": "code",
   "execution_count": 9,
   "id": "8160dfac",
   "metadata": {},
   "outputs": [],
   "source": [
    "def shortest_path(G, source, target):\n",
    "    unvisited = list(nx.nodes(G)) ## all nodes\n",
    "    \n",
    "    dist = {} ## distances from each node to source\n",
    "    previous = {} ## previous node\n",
    "    dist[source] = 0 ## The distance of the source node is 0\n",
    "    for node in list(nx.nodes(G)):\n",
    "        dist[node] = math.inf\n",
    "        previous[node] = None\n",
    "    \n",
    "    while unvisited:  \n",
    "        dist_min = math.inf\n",
    "        for node in unvisited:\n",
    "            if dist[node] <= dist_min :\n",
    "                dist_min = dist[node]\n",
    "                u = node\n",
    "        unvisited.remove(u) ## removing the node from the list of the unvisited nodes\n",
    "        \n",
    "        ## if the visited node is the target stop the visits\n",
    "        if u == target:\n",
    "            break\n",
    "            \n",
    "        ## Examine its neighbours\n",
    "        for neighbor in G.neighbors(u):\n",
    "            new_dist = dist[u] + G[u][neighbor]['weight']\n",
    "            if dist[neighbor] > new_dist:\n",
    "                ## update the shortest distance\n",
    "                dist[neighbor] = new_dist\n",
    "                ## update the previous node\n",
    "                previous[neighbor] = u\n",
    "                \n",
    "    if previous[target] == None:\n",
    "        return ('Not Connected',[])\n",
    "    \n",
    "    path = [target]\n",
    "    while source not in path:\n",
    "        path.append(previous[path[-1]])\n",
    "    path.reverse()\n",
    "\n",
    "    return dist[target], path # return the distance"
   ]
  },
  {
   "cell_type": "code",
   "execution_count": 10,
   "id": "d5b1a6ca",
   "metadata": {},
   "outputs": [],
   "source": [
    "def func3(G, users, source, target):\n",
    "    new_users = [source] + users + [target]\n",
    "    res_path = [source]\n",
    "    Dist = 0\n",
    "    \n",
    "    for i in range(len(new_users) - 1):\n",
    "        dist, path = shortest_path(G, new_users[i], new_users[i+1])\n",
    "        if dist == 'Not Connected':\n",
    "            return ('Not Connected')\n",
    "        Dist += dist\n",
    "        res_path += path[1:]\n",
    "    \n",
    "    return Dist, res_path"
   ]
  },
  {
   "cell_type": "code",
   "execution_count": 13,
   "id": "b5bf3690",
   "metadata": {},
   "outputs": [
    {
     "data": {
      "text/plain": [
       "4361"
      ]
     },
     "execution_count": 13,
     "metadata": {},
     "output_type": "execute_result"
    }
   ],
   "source": [
    "len(subG.nodes)"
   ]
  },
  {
   "cell_type": "code",
   "execution_count": 18,
   "id": "393e9252",
   "metadata": {},
   "outputs": [
    {
     "data": {
      "text/plain": [
       "'Not Connected'"
      ]
     },
     "execution_count": 18,
     "metadata": {},
     "output_type": "execute_result"
    }
   ],
   "source": [
    "## Test 01\n",
    "func3(subG,['19068','83473'], '78182', '221149')"
   ]
  },
  {
   "cell_type": "code",
   "execution_count": 19,
   "id": "c27294cf",
   "metadata": {},
   "outputs": [
    {
     "data": {
      "text/plain": [
       "(5.7,\n",
       " ['102896',\n",
       "  '93468',\n",
       "  '19635',\n",
       "  '244170',\n",
       "  '74022',\n",
       "  '63756',\n",
       "  '51173',\n",
       "  '188822',\n",
       "  '39321',\n",
       "  '55774',\n",
       "  '158109',\n",
       "  '5380',\n",
       "  '52463',\n",
       "  '83109',\n",
       "  '135152',\n",
       "  '215752',\n",
       "  '175611',\n",
       "  '244170'])"
      ]
     },
     "execution_count": 19,
     "metadata": {},
     "output_type": "execute_result"
    }
   ],
   "source": [
    "## Test 02\n",
    "func3(subG,['51173','52463'], '102896', '244170')"
   ]
  }
 ],
 "metadata": {
  "kernelspec": {
   "display_name": "Python 3",
   "language": "python",
   "name": "python3"
  },
  "language_info": {
   "codemirror_mode": {
    "name": "ipython",
    "version": 3
   },
   "file_extension": ".py",
   "mimetype": "text/x-python",
   "name": "python",
   "nbconvert_exporter": "python",
   "pygments_lexer": "ipython3",
   "version": "3.8.8"
  }
 },
 "nbformat": 4,
 "nbformat_minor": 5
}
