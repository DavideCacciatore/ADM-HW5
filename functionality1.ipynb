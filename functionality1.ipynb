{
 "cells": [
  {
   "cell_type": "code",
   "execution_count": 1,
   "metadata": {
    "id": "CNKK15S4siQH"
   },
   "outputs": [],
   "source": [
    "## Import Utils\n",
    "import pandas as pd\n",
    "import numpy as np\n",
    "import matplotlib.pyplot as plt\n",
    "import networkx as nx\n",
    "from datetime import datetime, date"
   ]
  },
  {
   "cell_type": "code",
   "execution_count": 2,
   "metadata": {
    "id": "eVgLfivrsiQM"
   },
   "outputs": [],
   "source": [
    "## Load Data\n",
    "with open('sx-stackoverflow-a2q.txt') as f:\n",
    "    a2q = f.readlines()"
   ]
  },
  {
   "cell_type": "code",
   "execution_count": 3,
   "metadata": {
    "id": "LA5lHCIusiQN"
   },
   "outputs": [],
   "source": [
    "## Load Data\n",
    "with open('sx-stackoverflow-c2q.txt') as f:\n",
    "    c2q = f.readlines()"
   ]
  },
  {
   "cell_type": "code",
   "execution_count": 4,
   "metadata": {
    "id": "5tyoh6LssiQN"
   },
   "outputs": [],
   "source": [
    "## Load Data\n",
    "with open('sx-stackoverflow-c2a.txt') as f:\n",
    "    c2a = f.readlines()"
   ]
  },
  {
   "cell_type": "code",
   "execution_count": 5,
   "metadata": {
    "id": "AhS6xBkjsiQO"
   },
   "outputs": [],
   "source": [
    "## Init Graph\n",
    "G = nx.DiGraph()"
   ]
  },
  {
   "cell_type": "markdown",
   "metadata": {
    "id": "OZVIRQiXvJTu"
   },
   "source": [
    "### Functionality 1"
   ]
  },
  {
   "cell_type": "code",
   "execution_count": 7,
   "metadata": {
    "id": "_SbfzZ4OsiQS"
   },
   "outputs": [],
   "source": [
    "## Graph 1\n",
    "\n",
    "## Init\n",
    "G_a2q = nx.DiGraph()\n",
    "\n",
    "t_start = datetime(2010, 10, 1)\n",
    "t_end = datetime(2010, 11, 1)\n",
    "\n",
    "## Import data\n",
    "for line in a2q:\n",
    "    line = line.replace('\\n', '')\n",
    "    line = line.split(' ') \n",
    "    t = datetime.fromtimestamp(int(line[2]))\n",
    "    t_truncated = date(t.year,t.month, t.day)\n",
    "    if t_start <= t < t_end :\n",
    "        if G_a2q.has_edge(line[0], line[1]) :\n",
    "            G_a2q[line[0]][line[1]]['weight'] += 0.6\n",
    "            G_a2q[line[0]][line[1]]['timestamp'].append(t_truncated)\n",
    "        else :\n",
    "            G_a2q.add_edge(line[0], line[1], weight=0.6)\n",
    "            G_a2q[line[0]][line[1]]['timestamp']=[t_truncated]"
   ]
  },
  {
   "cell_type": "code",
   "execution_count": 8,
   "metadata": {
    "id": "jahmyN3ivu6b"
   },
   "outputs": [],
   "source": [
    "## Graph 2\n",
    "\n",
    "## Init\n",
    "G_c2q = nx.DiGraph()\n",
    "\n",
    "## Import data\n",
    "for line in c2q:\n",
    "    line = line.replace('\\n', '')\n",
    "    line = line.split(' ') \n",
    "    t = datetime.fromtimestamp(int(line[2]))\n",
    "    t_truncated = date(t.year,t.month, t.day)\n",
    "    if t_start <= t < t_end :\n",
    "        if G_c2q.has_edge(line[0], line[1]) :\n",
    "            G_c2q[line[0]][line[1]]['weight'] += 0.3\n",
    "            G_c2q[line[0]][line[1]]['timestamp'].append(t_truncated)\n",
    "        else :\n",
    "            G_c2q.add_edge(line[0], line[1], weight=0.3)\n",
    "            G_c2q[line[0]][line[1]]['timestamp']=[t_truncated]"
   ]
  },
  {
   "cell_type": "code",
   "execution_count": 9,
   "metadata": {
    "id": "hOKmuJ1XvvDY"
   },
   "outputs": [],
   "source": [
    "## Graph 3\n",
    "\n",
    "## Init\n",
    "G_c2a = nx.DiGraph()\n",
    "\n",
    "## Import data\n",
    "for line in c2a:\n",
    "    line = line.replace('\\n', '')\n",
    "    line = line.split(' ') \n",
    "    t = datetime.fromtimestamp(int(line[2]))\n",
    "    t_truncated = date(t.year,t.month, t.day)\n",
    "    if t_start <= t < t_end :\n",
    "        if G_c2a.has_edge(line[0], line[1]) :\n",
    "            G_c2a[line[0]][line[1]]['weight'] += 0.1\n",
    "            G_c2a[line[0]][line[1]]['timestamp'].append(t_truncated)\n",
    "        else :\n",
    "            G_c2a.add_edge(line[0], line[1], weight=0.1)\n",
    "            G_c2a[line[0]][line[1]]['timestamp']=[t_truncated]"
   ]
  },
  {
   "cell_type": "markdown",
   "metadata": {},
   "source": [
    "#### Is the graph direct or not?"
   ]
  },
  {
   "cell_type": "markdown",
   "metadata": {},
   "source": [
    "##### Given a graph G=(V,E), if G is a directed graph the sum of the lengths of all the adjacency list is |E|"
   ]
  },
  {
   "cell_type": "code",
   "execution_count": 76,
   "metadata": {},
   "outputs": [],
   "source": [
    "l = []\n",
    "for line in nx.generate_adjlist(G_a2q):\n",
    "    l.append(line.split(' '))"
   ]
  },
  {
   "cell_type": "code",
   "execution_count": 115,
   "metadata": {
    "id": "6pUOT3xWFgDB"
   },
   "outputs": [],
   "source": [
    "def is_directed(Graph):\n",
    "    number_nodes=len(list(G_a2q.nodes))\n",
    "    sum = 0\n",
    "    for line in l: \n",
    "        sum += len(line)\n",
    "    if (sum - number_nodes) == len(Graph.edges):  #I subtract the number of nodes because nx.generate_adjlist generates as first element of each list the node we're considering\n",
    "        return True \n",
    "    else:\n",
    "        return False\n"
   ]
  },
  {
   "cell_type": "code",
   "execution_count": 116,
   "metadata": {
    "colab": {
     "base_uri": "https://localhost:8080/"
    },
    "id": "-JschTBJ2bWD",
    "outputId": "a87cba48-800a-4eb0-fdc8-ccd93e89e77c"
   },
   "outputs": [
    {
     "data": {
      "text/plain": [
       "True"
      ]
     },
     "execution_count": 116,
     "metadata": {},
     "output_type": "execute_result"
    }
   ],
   "source": [
    "is_directed(G_a2q)"
   ]
  },
  {
   "cell_type": "code",
   "execution_count": 117,
   "metadata": {
    "colab": {
     "base_uri": "https://localhost:8080/"
    },
    "id": "r9BftM5n2gEN",
    "outputId": "cb78d6f0-551b-476b-b063-c4451aaabefb"
   },
   "outputs": [
    {
     "data": {
      "text/plain": [
       "True"
      ]
     },
     "execution_count": 117,
     "metadata": {},
     "output_type": "execute_result"
    }
   ],
   "source": [
    "# Check\n",
    "nx.is_directed(G_a2q)"
   ]
  },
  {
   "cell_type": "markdown",
   "metadata": {},
   "source": [
    "#### Number of users"
   ]
  },
  {
   "cell_type": "markdown",
   "metadata": {},
   "source": [
    "##### the number of users is simply the number of nodes"
   ]
  },
  {
   "cell_type": "code",
   "execution_count": 118,
   "metadata": {},
   "outputs": [],
   "source": [
    "def n_users(Graph):\n",
    "    l_nodes=list(Graph.nodes)\n",
    "    n_nodes=len(l_nodes)\n",
    "    return(n_nodes)"
   ]
  },
  {
   "cell_type": "markdown",
   "metadata": {},
   "source": [
    "#### Number of answers/comments"
   ]
  },
  {
   "cell_type": "markdown",
   "metadata": {},
   "source": [
    "##### the number of answers/comments is simply the number of edges"
   ]
  },
  {
   "cell_type": "code",
   "execution_count": 119,
   "metadata": {},
   "outputs": [],
   "source": [
    "def n_answers(Graph):\n",
    "    l_edges=list(Graph.edges)\n",
    "    n_edges=len(l_edges)\n",
    "    return(n_edges)"
   ]
  },
  {
   "cell_type": "markdown",
   "metadata": {},
   "source": [
    "#### Average number of links per user"
   ]
  },
  {
   "cell_type": "code",
   "execution_count": 120,
   "metadata": {},
   "outputs": [],
   "source": [
    "def average(n_edges,n_nodes):\n",
    "    return(n_edges/n_nodes)"
   ]
  },
  {
   "cell_type": "markdown",
   "metadata": {},
   "source": [
    "#### Density degree of the graph"
   ]
  },
  {
   "cell_type": "markdown",
   "metadata": {},
   "source": [
    "##### The density degree for a directed graph is : D = |E| / (|V| * (|V| - 1))"
   ]
  },
  {
   "cell_type": "code",
   "execution_count": 121,
   "metadata": {},
   "outputs": [],
   "source": [
    "def density_degre(n_edges, n_nodes):\n",
    "    return(n_edges/(n_nodes*(n_nodes-1)))"
   ]
  },
  {
   "cell_type": "markdown",
   "metadata": {},
   "source": [
    "#### Is the graph sparse or dense?"
   ]
  },
  {
   "cell_type": "markdown",
   "metadata": {},
   "source": [
    "##### A sparse graph is a graph whose density D is $0 \\leq D < \\frac {1} {2}.$"
   ]
  },
  {
   "cell_type": "code",
   "execution_count": 122,
   "metadata": {},
   "outputs": [],
   "source": [
    "def graph_mode(density):\n",
    "    if (density>=0) & (density < 1/2):\n",
    "        return(\"The graph is sparse because its density D is  0 <= D < 1/2\")\n",
    "    else:\n",
    "        return(\"The graph is dense because its density D is  1/2 < D < 1\")"
   ]
  },
  {
   "cell_type": "code",
   "execution_count": 123,
   "metadata": {},
   "outputs": [],
   "source": [
    "def functionality_1(Graph):\n",
    "    isdirected=is_directed(Graph)\n",
    "    numbernodes=n_users(Graph)\n",
    "    numberedges=n_answers(Graph)\n",
    "    average_=average(numberedges,numbernodes)\n",
    "    densitydegree=density_degre(numberedges, numbernodes)\n",
    "    print(\"Functionality 1 - Get the overall features of the graph\")\n",
    "    print(\"Is the graph directed?: \" + str(isdirected))\n",
    "    print(\"Number of users: \" + str(numbernodes))\n",
    "    print(\"Number of answers: \" + str(numberedges))\n",
    "    print(\"Average number of links per user: \" + str(average_))\n",
    "    print(\"Graph density: \" +  str(densitydegree))\n",
    "    print(graph_mode(densitydegree))"
   ]
  },
  {
   "cell_type": "code",
   "execution_count": 124,
   "metadata": {},
   "outputs": [
    {
     "name": "stdout",
     "output_type": "stream",
     "text": [
      "Functionality 1 - Get the overall features of the graph\n",
      "Is the graph directed?: True\n",
      "Number of users: 48647\n",
      "Number of answers: 123536\n",
      "Average number of links per user: 2.539437169815199\n",
      "Graph density: 5.2202383953772136e-05\n",
      "The graph is sparse because its density D is  0 <= D < 1/2\n"
     ]
    }
   ],
   "source": [
    "functionality_1(G_a2q)"
   ]
  },
  {
   "cell_type": "code",
   "execution_count": null,
   "metadata": {},
   "outputs": [],
   "source": []
  }
 ],
 "metadata": {
  "colab": {
   "collapsed_sections": [],
   "name": "Exercise 1.ipynb",
   "provenance": []
  },
  "kernelspec": {
   "display_name": "Python 3",
   "language": "python",
   "name": "python3"
  },
  "language_info": {
   "codemirror_mode": {
    "name": "ipython",
    "version": 3
   },
   "file_extension": ".py",
   "mimetype": "text/x-python",
   "name": "python",
   "nbconvert_exporter": "python",
   "pygments_lexer": "ipython3",
   "version": "3.8.8"
  }
 },
 "nbformat": 4,
 "nbformat_minor": 4
}
