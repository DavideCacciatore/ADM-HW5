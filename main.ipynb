{
 "cells": [
  {
   "cell_type": "markdown",
   "metadata": {
    "id": "CNKK15S4siQH"
   },
   "source": [
    "# Homework 5 - Exploring StackOverflow!"
   ]
  },
  {
   "cell_type": "code",
   "execution_count": 1,
   "metadata": {},
   "outputs": [],
   "source": [
    "## Import Utils\n",
    "import pandas as pd\n",
    "import numpy as np\n",
    "import matplotlib.pyplot as plt\n",
    "import networkx as nx\n",
    "from datetime import datetime, date\n",
    "import pickle"
   ]
  },
  {
   "cell_type": "markdown",
   "metadata": {},
   "source": [
    "## 1. Data"
   ]
  },
  {
   "cell_type": "markdown",
   "metadata": {},
   "source": [
    "Load the data"
   ]
  },
  {
   "cell_type": "code",
   "execution_count": 2,
   "metadata": {
    "id": "eVgLfivrsiQM"
   },
   "outputs": [],
   "source": [
    "with open('sx-stackoverflow-a2q.txt') as f:\n",
    "    a2q = f.readlines()"
   ]
  },
  {
   "cell_type": "code",
   "execution_count": 3,
   "metadata": {
    "id": "LA5lHCIusiQN"
   },
   "outputs": [],
   "source": [
    "with open('sx-stackoverflow-c2q.txt') as f:\n",
    "    c2q = f.readlines()"
   ]
  },
  {
   "cell_type": "code",
   "execution_count": 4,
   "metadata": {
    "id": "5tyoh6LssiQN"
   },
   "outputs": [],
   "source": [
    "with open('sx-stackoverflow-c2a.txt') as f:\n",
    "    c2a = f.readlines()"
   ]
  },
  {
   "cell_type": "code",
   "execution_count": 5,
   "metadata": {
    "id": "AhS6xBkjsiQO"
   },
   "outputs": [],
   "source": [
    "## Init Graph\n",
    "G = nx.DiGraph()"
   ]
  },
  {
   "cell_type": "markdown",
   "metadata": {},
   "source": [
    "In the merged graph we decided to assign the following weigths: \n",
    "\n",
    "$\\cdot$ 0.6 to *Answers to questions* \n",
    "\n",
    "$\\cdot$ 0.3 to *Comments to questions* \n",
    "\n",
    "$\\cdot$ 0.1 to *Comments to answers* \n",
    "\n",
    "The reason is that we have thought that the answers to questions are the more relevant than the comments to question, that are more relevant than comments to answers."
   ]
  },
  {
   "cell_type": "code",
   "execution_count": 6,
   "metadata": {},
   "outputs": [],
   "source": [
    "## Merge Graph\n",
    "t_start = datetime(2009, 10, 1)\n",
    "t_end = datetime(2010, 10, 1)\n",
    "\n",
    "for line in a2q:\n",
    "    line = line.replace('\\n', '')\n",
    "    line = line.split(' ') \n",
    "    t = datetime.fromtimestamp(int(line[2]))\n",
    "    t_truncated = date(t.year,t.month, t.day)\n",
    "    if t_start <= t < t_end :\n",
    "        if G.has_edge(line[0], line[1]) :\n",
    "            G[line[0]][line[1]]['weight'] += 0.6\n",
    "            G[line[0]][line[1]]['timestamp'].append(t_truncated)\n",
    "        else :\n",
    "            G.add_edge(line[0], line[1], weight=0.6)\n",
    "            G[line[0]][line[1]]['timestamp']=[t_truncated]\n",
    "\n",
    "for line in c2q:\n",
    "    line = line.replace('\\n', '')\n",
    "    line = line.split(' ') \n",
    "    t = datetime.fromtimestamp(int(line[2]))\n",
    "    t_truncated = date(t.year,t.month, t.day)\n",
    "    if t_start <= t < t_end :\n",
    "        if G.has_edge(line[0], line[1]) :\n",
    "            G[line[0]][line[1]]['weight'] += 0.3\n",
    "            G[line[0]][line[1]]['timestamp'].append(t_truncated)\n",
    "        else :\n",
    "            G.add_edge(line[0], line[1], weight=0.3)\n",
    "            G[line[0]][line[1]]['timestamp']=[t_truncated]\n",
    "\n",
    "for line in c2a:\n",
    "    line = line.replace('\\n', '')\n",
    "    line = line.split(' ') \n",
    "    t = datetime.fromtimestamp(int(line[2]))\n",
    "    t_truncated = date(t.year,t.month, t.day)\n",
    "    if t_start <= t < t_end :\n",
    "        if G.has_edge(line[0], line[1]) :\n",
    "            G[line[0]][line[1]]['weight'] += 0.1\n",
    "            G[line[0]][line[1]]['timestamp'].append(t_truncated)\n",
    "        else :\n",
    "            G.add_edge(line[0], line[1], weight=0.1)\n",
    "            G[line[0]][line[1]]['timestamp']=[t_truncated]"
   ]
  },
  {
   "cell_type": "markdown",
   "metadata": {},
   "source": [
    "## 2. Implementation of the backend"
   ]
  },
  {
   "cell_type": "markdown",
   "metadata": {
    "id": "OZVIRQiXvJTu"
   },
   "source": [
    "### Functionality 1 - Get the overall features of the graph"
   ]
  },
  {
   "cell_type": "code",
   "execution_count": 7,
   "metadata": {
    "id": "_SbfzZ4OsiQS"
   },
   "outputs": [],
   "source": [
    "## Graph 1\n",
    "\n",
    "## Init\n",
    "G_a2q = nx.DiGraph()\n",
    "\n",
    "t_start = datetime(2010, 10, 1)\n",
    "t_end = datetime(2010, 11, 1)\n",
    "\n",
    "## Import data\n",
    "for line in a2q:\n",
    "    line = line.replace('\\n', '')\n",
    "    line = line.split(' ') \n",
    "    t = datetime.fromtimestamp(int(line[2]))\n",
    "    t_truncated = date(t.year,t.month, t.day)\n",
    "    if t_start <= t < t_end :\n",
    "        if G_a2q.has_edge(line[0], line[1]) :\n",
    "            G_a2q[line[0]][line[1]]['weight'] += 0.6\n",
    "            G_a2q[line[0]][line[1]]['timestamp'].append(t_truncated)\n",
    "        else :\n",
    "            G_a2q.add_edge(line[0], line[1], weight=0.6)\n",
    "            G_a2q[line[0]][line[1]]['timestamp']=[t_truncated]"
   ]
  },
  {
   "cell_type": "code",
   "execution_count": 8,
   "metadata": {
    "id": "jahmyN3ivu6b"
   },
   "outputs": [],
   "source": [
    "## Graph 2\n",
    "\n",
    "## Init\n",
    "G_c2q = nx.DiGraph()\n",
    "\n",
    "t_start = datetime(2010, 10, 1)\n",
    "t_end = datetime(2010, 11, 1)\n",
    "\n",
    "## Import data\n",
    "for line in c2q:\n",
    "    line = line.replace('\\n', '')\n",
    "    line = line.split(' ') \n",
    "    t = datetime.fromtimestamp(int(line[2]))\n",
    "    t_truncated = date(t.year,t.month, t.day)\n",
    "    if t_start <= t < t_end :\n",
    "        if G_c2q.has_edge(line[0], line[1]) :\n",
    "            G_c2q[line[0]][line[1]]['weight'] += 0.3\n",
    "            G_c2q[line[0]][line[1]]['timestamp'].append(t_truncated)\n",
    "        else :\n",
    "            G_c2q.add_edge(line[0], line[1], weight=0.3)\n",
    "            G_c2q[line[0]][line[1]]['timestamp']=[t_truncated]"
   ]
  },
  {
   "cell_type": "code",
   "execution_count": 9,
   "metadata": {
    "id": "hOKmuJ1XvvDY"
   },
   "outputs": [],
   "source": [
    "## Graph 3\n",
    "\n",
    "## Init\n",
    "G_c2a = nx.DiGraph()\n",
    "\n",
    "t_start = datetime(2010, 10, 1)\n",
    "t_end = datetime(2010, 11, 1)\n",
    "\n",
    "## Import data\n",
    "for line in c2a:\n",
    "    line = line.replace('\\n', '')\n",
    "    line = line.split(' ') \n",
    "    t = datetime.fromtimestamp(int(line[2]))\n",
    "    t_truncated = date(t.year,t.month, t.day)\n",
    "    if t_start <= t < t_end :\n",
    "        if G_c2a.has_edge(line[0], line[1]) :\n",
    "            G_c2a[line[0]][line[1]]['weight'] += 0.1\n",
    "            G_c2a[line[0]][line[1]]['timestamp'].append(t_truncated)\n",
    "        else :\n",
    "            G_c2a.add_edge(line[0], line[1], weight=0.1)\n",
    "            G_c2a[line[0]][line[1]]['timestamp']=[t_truncated]"
   ]
  },
  {
   "cell_type": "markdown",
   "metadata": {},
   "source": [
    "#### $\\cdot$ Is the graph direct or not?"
   ]
  },
  {
   "cell_type": "markdown",
   "metadata": {},
   "source": [
    "##### Given a graph G=(V,E), if G is a directed graph the sum of the lengths of all the adjacency list is |E|"
   ]
  },
  {
   "cell_type": "code",
   "execution_count": 41,
   "metadata": {},
   "outputs": [],
   "source": [
    "def adj(Graph):\n",
    "    l = []\n",
    "    for line in nx.generate_adjlist(Graph):\n",
    "        l.append(line.split(' '))\n",
    "    return(l)"
   ]
  },
  {
   "cell_type": "code",
   "execution_count": 42,
   "metadata": {
    "id": "6pUOT3xWFgDB"
   },
   "outputs": [],
   "source": [
    "def is_directed(Graph):\n",
    "    \"\"\"\n",
    "    input:\n",
    "    - Graph\n",
    "    output :\n",
    "    - True if the graph is a directed graph, false otherwise\n",
    "    \n",
    "    \"\"\"\n",
    "    l=adj(Graph)\n",
    "    number_nodes=len(list(Graph.nodes))\n",
    "    sum = 0\n",
    "    for line in l: \n",
    "        sum += len(line)\n",
    "    if (sum - number_nodes) == len(Graph.edges):  #I subtract the number of nodes because nx.generate_adjlist generates as first element of each list the node we're considering\n",
    "        return True \n",
    "    else:\n",
    "        return False\n"
   ]
  },
  {
   "cell_type": "code",
   "execution_count": 43,
   "metadata": {
    "colab": {
     "base_uri": "https://localhost:8080/"
    },
    "id": "-JschTBJ2bWD",
    "outputId": "a87cba48-800a-4eb0-fdc8-ccd93e89e77c"
   },
   "outputs": [
    {
     "data": {
      "text/plain": [
       "True"
      ]
     },
     "execution_count": 43,
     "metadata": {},
     "output_type": "execute_result"
    }
   ],
   "source": [
    "is_directed(G_a2q)"
   ]
  },
  {
   "cell_type": "code",
   "execution_count": 38,
   "metadata": {
    "colab": {
     "base_uri": "https://localhost:8080/"
    },
    "id": "r9BftM5n2gEN",
    "outputId": "cb78d6f0-551b-476b-b063-c4451aaabefb"
   },
   "outputs": [
    {
     "data": {
      "text/plain": [
       "True"
      ]
     },
     "execution_count": 38,
     "metadata": {},
     "output_type": "execute_result"
    }
   ],
   "source": [
    "# Check\n",
    "nx.is_directed(G_a2q)"
   ]
  },
  {
   "cell_type": "markdown",
   "metadata": {},
   "source": [
    "#### $\\cdot$ Number of users"
   ]
  },
  {
   "cell_type": "markdown",
   "metadata": {},
   "source": [
    "##### the number of users is simply the number of nodes"
   ]
  },
  {
   "cell_type": "code",
   "execution_count": 14,
   "metadata": {},
   "outputs": [],
   "source": [
    "def n_users(Graph):\n",
    "    \"\"\"\n",
    "    input:\n",
    "    - Graph\n",
    "    output :\n",
    "    - The number of nodes\n",
    "    \"\"\"\n",
    "    l_nodes=list(Graph.nodes)\n",
    "    n_nodes=len(l_nodes)\n",
    "    return(n_nodes)"
   ]
  },
  {
   "cell_type": "markdown",
   "metadata": {},
   "source": [
    "#### $\\cdot$ Number of answers/comments"
   ]
  },
  {
   "cell_type": "markdown",
   "metadata": {},
   "source": [
    "##### the number of answers/comments is simply the number of edges"
   ]
  },
  {
   "cell_type": "code",
   "execution_count": 15,
   "metadata": {},
   "outputs": [],
   "source": [
    "def n_answers(Graph):\n",
    "    \"\"\"\n",
    "    input:\n",
    "    - Graph\n",
    "    output :\n",
    "    - The number of edges\n",
    "    \n",
    "    \"\"\"\n",
    "    l_edges=list(Graph.edges)\n",
    "    n_edges=len(l_edges)\n",
    "    return(n_edges)"
   ]
  },
  {
   "cell_type": "markdown",
   "metadata": {},
   "source": [
    "#### $\\cdot$ Average number of links per user"
   ]
  },
  {
   "cell_type": "code",
   "execution_count": 16,
   "metadata": {},
   "outputs": [],
   "source": [
    "def average(n_edges,n_nodes):\n",
    "    \"\"\"\n",
    "    input:\n",
    "    - The number of edges\n",
    "    - The number of nodes \n",
    "    output :\n",
    "    - Average number of links per user\n",
    "    \n",
    "    \"\"\"\n",
    "    return(n_edges/n_nodes)"
   ]
  },
  {
   "cell_type": "markdown",
   "metadata": {},
   "source": [
    "#### $\\cdot$ Density degree of the graph"
   ]
  },
  {
   "cell_type": "markdown",
   "metadata": {},
   "source": [
    "##### The density degree for a directed graph is $D =  \\frac{|E|} {(|V| * (|V| - 1))}$, while the density degree for an undirected graph is $D =  \\frac{2|E|} {(|V| * (|V| - 1))}$"
   ]
  },
  {
   "cell_type": "code",
   "execution_count": 17,
   "metadata": {},
   "outputs": [],
   "source": [
    "def density_degre(Graph,n_edges, n_nodes):\n",
    "    \"\"\"\n",
    "    input:\n",
    "    - Graph\n",
    "    - The number of edges\n",
    "    - The number of nodes \n",
    "    output :\n",
    "    - The density degree\n",
    "    \n",
    "    \"\"\"\n",
    "    if is_directed(Graph)==True:\n",
    "        return(n_edges/(n_nodes*(n_nodes-1)))\n",
    "    else:\n",
    "        return(2*n_edges/(n_nodes*(n_nodes-1)))"
   ]
  },
  {
   "cell_type": "markdown",
   "metadata": {},
   "source": [
    "#### $\\cdot$ Is the graph sparse or dense?"
   ]
  },
  {
   "cell_type": "markdown",
   "metadata": {},
   "source": [
    "##### A sparse graph is a graph for which $|E|$ is much less than $|V^2|$"
   ]
  },
  {
   "cell_type": "code",
   "execution_count": 18,
   "metadata": {},
   "outputs": [],
   "source": [
    "def graph_mode(n_edges,n_nodes):\n",
    "    \"\"\"\n",
    "    input:\n",
    "    - The number of edges\n",
    "    - The number of nodes \n",
    "    output :\n",
    "    - If the graph is sparse or if it is dense \n",
    "    \"\"\"\n",
    "    if n_edges < (n_nodes**2):\n",
    "        return(\"The graph is sparse because the number of edges is much less than the square of the number of nodes \")\n",
    "    else:\n",
    "        return(\"The graph is dense because the number of edges is close to the square of the number of nodes\")"
   ]
  },
  {
   "cell_type": "code",
   "execution_count": 49,
   "metadata": {},
   "outputs": [],
   "source": [
    "def functionality_1(Graph):\n",
    "    \"\"\"\n",
    "    input:\n",
    "    - One of the 3 graphs\n",
    "    output :\n",
    "    - Whether the graph is directed or not\n",
    "    - Number of users\n",
    "    - Number of answers/comments\n",
    "    - Average number of links per user\n",
    "    - Density degree of the graph\n",
    "    - Whether the graph is sparse or dense\n",
    "    \n",
    "    \"\"\"\n",
    "    isdirected=is_directed(Graph)\n",
    "    numbernodes=n_users(Graph)\n",
    "    numberedges=n_answers(Graph)\n",
    "    average_=average(numberedges,numbernodes)\n",
    "    densitydegree=density_degre(Graph, numberedges, numbernodes)\n",
    "    graphmode=graph_mode(numberedges,numbernodes)\n",
    "    return(isdirected, numbernodes, numberedges, average_, densitydegree, graphmode )"
   ]
  },
  {
   "cell_type": "markdown",
   "metadata": {},
   "source": [
    "### Functionality 2 - Find the best users!"
   ]
  },
  {
   "cell_type": "code",
   "execution_count": null,
   "metadata": {},
   "outputs": [],
   "source": []
  },
  {
   "cell_type": "markdown",
   "metadata": {},
   "source": [
    "### Functionality 3 - Shortest Ordered Route"
   ]
  },
  {
   "cell_type": "code",
   "execution_count": null,
   "metadata": {},
   "outputs": [],
   "source": []
  },
  {
   "cell_type": "markdown",
   "metadata": {},
   "source": [
    "### Functionality 4 - Disconnecting graphs"
   ]
  },
  {
   "cell_type": "code",
   "execution_count": 20,
   "metadata": {},
   "outputs": [],
   "source": [
    "with open('G.pkl', 'wb') as f:\n",
    "    pickle.dump(G, f)"
   ]
  },
  {
   "cell_type": "code",
   "execution_count": 21,
   "metadata": {},
   "outputs": [],
   "source": [
    "with open('G.pkl', 'rb') as f:\n",
    "    G = pickle.load(f)"
   ]
  },
  {
   "cell_type": "markdown",
   "metadata": {},
   "source": [
    "We found the minimum number of links required to disconnect two users calculating the graph’s maximum flow, because the **max-flow min-cut theorem** states that the maximum flow through a graph from a given source to a given sink is exactly equal to the minimum sum of a cut. \n",
    "\n",
    "Firstly we have implemented the following functions:\n",
    "\n",
    " $\\cdot$ BFS: function for Breadth First Search for a graph\n",
    " \n",
    " $\\cdot$ dfs: function for depth first search for a graph"
   ]
  },
  {
   "cell_type": "code",
   "execution_count": 22,
   "metadata": {},
   "outputs": [],
   "source": [
    "def BFS(G, source, target, parent):\n",
    "    \"\"\"\n",
    "    input:\n",
    "    - Graph\n",
    "    - The source \n",
    "    - The target\n",
    "    - Array to store the path    \n",
    "    output :\n",
    "    - True if there's a path from source to target\n",
    "    \"\"\"\n",
    "    visited ={key: False for key in nx.nodes(G)}\n",
    "    queue=[]\n",
    "    queue.append(source)\n",
    "    visited[source] = True\n",
    "\n",
    "    # Standard BFS Loop\n",
    "    while queue:\n",
    "        u = queue.pop(0)\n",
    "\n",
    "        for ind in G[u]:\n",
    "            if (visited[ind] == False) and (G[u][ind]['weight'] > 0) :\n",
    "                queue.append(ind)\n",
    "                visited[ind] = True\n",
    "                parent[ind] = u\n",
    "\n",
    "    return visited[target] #boolean\n",
    "\n",
    "def dfs(G,s,visited):\n",
    "    visited[s]=True\n",
    "    for node in G[s]:\n",
    "        if G[s][node][\"weight\"] > 0 and not visited[node]:\n",
    "            dfs(G,node,visited)\n"
   ]
  },
  {
   "cell_type": "code",
   "execution_count": 23,
   "metadata": {},
   "outputs": [],
   "source": [
    "def func4(int1_start, int1_end, int2_start, int2_end, user1, user2):\n",
    "    \"\"\"\n",
    "    input:\n",
    "    - Two different intervals of time (disjoint or not)\n",
    "    - Two users which are unique to each interval of time \n",
    "        - user_1 only appears in interval 1\n",
    "        - user_2 only appears in interval 2)\n",
    "        \n",
    "    output :\n",
    "    - Minimum number of links (considering their weights) required to disconnect the two graphs.\n",
    "    \"\"\"\n",
    "    \n",
    "    #create the subgraph\n",
    "    subG = nx.DiGraph()\n",
    "    \n",
    "    #add egdes/nodes if it belongs to one of the intervals of time \n",
    "    for edge in list(G.edges):\n",
    "        if (int1_start <= G.edges[edge[0], edge[1]]['timestamp'][0] < int1_end) or (int2_start <= G.edges[edge[0], edge[1]]['timestamp'][0] < int2_end):\n",
    "            subG.add_edge(edge[0], edge[1])\n",
    "            subG[edge[0]][edge[1]]['weight'] = G.edges[edge[0], edge[1]]['weight']\n",
    "            subG[edge[0]][edge[1]]['timestamp'] = G.edges[edge[0], edge[1]]['timestamp']\n",
    "\n",
    "    subG_i=subG.copy()\n",
    "    \n",
    "    # This array is filled by BFS and to store path\n",
    "    parent = {key: -1 for key in nx.nodes(G)}\n",
    "    max_flow = 0 \n",
    "    while BFS(subG, user1, user2, parent) :\n",
    "\n",
    "        # Find minimum residual capacity of the edges along the\n",
    "        # path filled by BFS. In other words find the maximum flow\n",
    "        # through the path found.\n",
    "        path_flow = float(\"Inf\")\n",
    "        s = user2\n",
    "        while(s != user1):\n",
    "            path_flow = min(path_flow, subG[parent[s]][s][\"weight\"])\n",
    "            s = parent[s]\n",
    "\n",
    "        # Add path flow to overall flow\n",
    "        max_flow += path_flow\n",
    "\n",
    "        # update residual capacities of the edges and reverse edges\n",
    "        # along the path\n",
    "        v = user2\n",
    "        while(v != user1):\n",
    "            u = parent[v]\n",
    "            subG[u][v][\"weight\"] -= path_flow\n",
    "            #g[v][u][\"weight\"] += path_flow\n",
    "            v = parent[v]\n",
    "\n",
    "    visited ={key: False for key in nx.nodes(subG)}\n",
    "    dfs(subG,s,visited)\n",
    "\n",
    "    # print the edges which initially had weights\n",
    "    # but now have 0 weight\n",
    "    count = 0\n",
    "    edge_to_remove = []\n",
    "    for i in nx.nodes(subG):\n",
    "        for j in subG[i]:\n",
    "            if (subG[i][j][\"weight\"] == 0) and (visited[i]):\n",
    "                print(str(i) + \" - \" + str(j))\n",
    "                edge_to_remove.append((i, j))\n",
    "                count+=1\n",
    "    print(count)\n",
    "    \n",
    "    return edge_to_remove, subG_i, count"
   ]
  },
  {
   "cell_type": "code",
   "execution_count": 24,
   "metadata": {},
   "outputs": [
    {
     "name": "stdout",
     "output_type": "stream",
     "text": [
      "19068 - 102529\n",
      "19068 - 411247\n",
      "19068 - 282000\n",
      "408089 - 361427\n",
      "4\n"
     ]
    }
   ],
   "source": [
    "int1_start = date(2010, 1, 1)\n",
    "int1_end = date(2010, 1, 2)\n",
    "\n",
    "int2_start = date(2010, 9, 1)\n",
    "int2_end = date(2010, 9, 2)\n",
    "\n",
    "user1 = '19068'\n",
    "user2 = '399510'\n",
    "\n",
    "edge_to_remove, subG_i, count = func4(int1_start, int1_end, int2_start, int2_end, user1, user2)"
   ]
  },
  {
   "cell_type": "code",
   "execution_count": 25,
   "metadata": {},
   "outputs": [
    {
     "data": {
      "text/plain": [
       "[('19068', '102529'),\n",
       " ('19068', '411247'),\n",
       " ('19068', '282000'),\n",
       " ('408089', '361427')]"
      ]
     },
     "execution_count": 25,
     "metadata": {},
     "output_type": "execute_result"
    }
   ],
   "source": [
    "edge_to_remove"
   ]
  },
  {
   "cell_type": "markdown",
   "metadata": {},
   "source": [
    "#### To be sure that our code is correct we did an easier test using our code implemented above"
   ]
  },
  {
   "cell_type": "code",
   "execution_count": 26,
   "metadata": {},
   "outputs": [
    {
     "data": {
      "image/png": "[encoded data removed]",
      "text/plain": [
       "<Figure size 432x288 with 1 Axes>"
      ]
     },
     "metadata": {},
     "output_type": "display_data"
    }
   ],
   "source": [
    "g=nx.DiGraph()\n",
    "g.add_edge('A','B', weight=1.2)\n",
    "g.add_edge('A','C', weight=1.3)\n",
    "g.add_edge('A','D', weight=1.4)\n",
    "g.add_edge('B','E', weight=1.5)\n",
    "g.add_edge('C','E', weight=1.6)\n",
    "g.add_edge('D','E', weight=1.7)\n",
    "g.add_edge('E','F', weight=1.1)\n",
    "g.add_edge('F','G', weight=1.3)\n",
    "g.add_edge('F','H', weight=1.3)\n",
    "g.add_edge('F','I', weight=1.4)\n",
    "g.add_edge('G','J', weight=1.2)\n",
    "g.add_edge('H','J', weight=1.9)\n",
    "g.add_edge('I','J', weight=1.7)\n",
    "\n",
    "plt.clf()\n",
    "nx.draw(g, with_labels=True)\n",
    "plt.show()"
   ]
  },
  {
   "cell_type": "code",
   "execution_count": 27,
   "metadata": {},
   "outputs": [
    {
     "name": "stdout",
     "output_type": "stream",
     "text": [
      "E - F\n"
     ]
    }
   ],
   "source": [
    "user1 = 'A'\n",
    "user2 = 'J'\n",
    "g_i = g.copy()\n",
    "parent = {key: -1 for key in nx.nodes(g)}\n",
    "max_flow = 0 \n",
    "while BFS(g, user1, user2, parent) :\n",
    "    path_flow = float(\"Inf\")\n",
    "    s = user2\n",
    "    while(s != user1):\n",
    "        path_flow = min(path_flow, g[parent[s]][s][\"weight\"])\n",
    "        s = parent[s]\n",
    "    \n",
    "    max_flow += path_flow\n",
    "    \n",
    "    v = user2 \n",
    "    \n",
    "    while(v != user1):\n",
    "        u = parent[v]\n",
    "        g[u][v]['weight'] = max(0, g[u][v]['weight'] - path_flow)\n",
    "            \n",
    "        if not g.has_edge(v,u) :\n",
    "            g.add_edge(v,u) \n",
    "            g[v][u][\"weight\"] = 0\n",
    "        g[v][u][\"weight\"] += path_flow\n",
    "        \n",
    "        v = parent[v]\n",
    "\n",
    "visited ={key: False for key in nx.nodes(g)}\n",
    "dfs(g,user1,visited)\n",
    "\n",
    "for i in nx.nodes(g):\n",
    "    for j in g[i] :\n",
    "        if (g[i][j][\"weight\"] == 0)  and (g_i[i][j][\"weight\"] > 0) and (visited[i]):\n",
    "            print(str(i) + \" - \" + str(j))"
   ]
  },
  {
   "cell_type": "markdown",
   "metadata": {},
   "source": [
    "## 3. Implementation of the frontend"
   ]
  },
  {
   "cell_type": "markdown",
   "metadata": {},
   "source": [
    "### Visualization 1 - Visualize the overall features of the graph"
   ]
  },
  {
   "cell_type": "code",
   "execution_count": 52,
   "metadata": {},
   "outputs": [],
   "source": [
    "import plotly.graph_objects as go\n",
    "\n",
    "def visualization(Graph):\n",
    "    '''\n",
    "    input:\n",
    "    - Graph\n",
    "    output:\n",
    "    -table with some important features that characterize the graph given like input\n",
    "    -\n",
    "    '''\n",
    "    \n",
    "    \n",
    "    isdirected, numbernodes, numberedges, average_, densitydegree, graphmode =functionality_1(Graph)\n",
    "    fig = go.Figure(data=[go.Table(header=dict(values=['Graph features', 'Values']),\n",
    "                                   cells=dict(values=[['Graph directed', 'Number of users', 'Number of answers/comments', 'Average number of links per user', 'Density degree of the graph', 'Is the graph sparse or dense?'], [isdirected , numbernodes\n",
    "                                   ,numberedges, average_ , densitydegree, graphmode  ]]))\n",
    "                         ])\n",
    "    return(fig.show())"
   ]
  },
  {
   "cell_type": "code",
   "execution_count": 53,
   "metadata": {},
   "outputs": [
    {
     "name": "stdin",
     "output_type": "stream",
     "text": [
      "Hello! Print a integer number between 1 and 4.  1\n"
     ]
    },
    {
     "name": "stdout",
     "output_type": "stream",
     "text": [
      "You have selected the functionality 1.. so you are going to get the overall features of a graph\n"
     ]
    },
    {
     "name": "stdin",
     "output_type": "stream",
     "text": [
      "Choose one of the three graphs! Print a number between 1, 2, 3.   2\n"
     ]
    },
    {
     "data": {
      "application/vnd.plotly.v1+json": {
       "config": {
        "plotlyServerURL": "https://plot.ly"
       },
       "data": [
        {
         "cells": {
          "values": [
           [
            "Graph directed",
            "Number of users",
            "Number of answers/comments",
            "Average number of links per user",
            "Density degree of the graph",
            "Is the graph sparse or dense?"
           ],
           [
            true,
            22965,
            52432,
            2.283126496843022,
            9.942198645022739e-05,
            "The graph is sparse because the number of edges is much less than the square of the number of nodes "
           ]
          ]
         },
         "header": {
          "values": [
           "Graph features",
           "Values"
          ]
         },
         "type": "table"
        }
       ],
       "layout": {
        "autosize": true,
        "template": {
         "data": {
          "bar": [
           {
            "error_x": {
             "color": "#2a3f5f"
            },
            "error_y": {
             "color": "#2a3f5f"
            },
            "marker": {
             "line": {
              "color": "#E5ECF6",
              "width": 0.5
             },
             "pattern": {
              "fillmode": "overlay",
              "size": 10,
              "solidity": 0.2
             }
            },
            "type": "bar"
           }
          ],
          "barpolar": [
           {
            "marker": {
             "line": {
              "color": "#E5ECF6",
              "width": 0.5
             },
             "pattern": {
              "fillmode": "overlay",
              "size": 10,
              "solidity": 0.2
             }
            },
            "type": "barpolar"
           }
          ],
          "carpet": [
           {
            "aaxis": {
             "endlinecolor": "#2a3f5f",
             "gridcolor": "white",
             "linecolor": "white",
             "minorgridcolor": "white",
             "startlinecolor": "#2a3f5f"
            },
            "baxis": {
             "endlinecolor": "#2a3f5f",
             "gridcolor": "white",
             "linecolor": "white",
             "minorgridcolor": "white",
             "startlinecolor": "#2a3f5f"
            },
            "type": "carpet"
           }
          ],
          "choropleth": [
           {
            "colorbar": {
             "outlinewidth": 0,
             "ticks": ""
            },
            "type": "choropleth"
           }
          ],
          "contour": [
           {
            "colorbar": {
             "outlinewidth": 0,
             "ticks": ""
            },
            "colorscale": [
             [
              0,
              "#0d0887"
             ],
             [
              0.1111111111111111,
              "#46039f"
             ],
             [
              0.2222222222222222,
              "#7201a8"
             ],
             [
              0.3333333333333333,
              "#9c179e"
             ],
             [
              0.4444444444444444,
              "#bd3786"
             ],
             [
              0.5555555555555556,
              "#d8576b"
             ],
             [
              0.6666666666666666,
              "#ed7953"
             ],
             [
              0.7777777777777778,
              "#fb9f3a"
             ],
             [
              0.8888888888888888,
              "#fdca26"
             ],
             [
              1,
              "#f0f921"
             ]
            ],
            "type": "contour"
           }
          ],
          "contourcarpet": [
           {
            "colorbar": {
             "outlinewidth": 0,
             "ticks": ""
            },
            "type": "contourcarpet"
           }
          ],
          "heatmap": [
           {
            "colorbar": {
             "outlinewidth": 0,
             "ticks": ""
            },
            "colorscale": [
             [
              0,
              "#0d0887"
             ],
             [
              0.1111111111111111,
              "#46039f"
             ],
             [
              0.2222222222222222,
              "#7201a8"
             ],
             [
              0.3333333333333333,
              "#9c179e"
             ],
             [
              0.4444444444444444,
              "#bd3786"
             ],
             [
              0.5555555555555556,
              "#d8576b"
             ],
             [
              0.6666666666666666,
              "#ed7953"
             ],
             [
              0.7777777777777778,
              "#fb9f3a"
             ],
             [
              0.8888888888888888,
              "#fdca26"
             ],
             [
              1,
              "#f0f921"
             ]
            ],
            "type": "heatmap"
           }
          ],
          "heatmapgl": [
           {
            "colorbar": {
             "outlinewidth": 0,
             "ticks": ""
            },
            "colorscale": [
             [
              0,
              "#0d0887"
             ],
             [
              0.1111111111111111,
              "#46039f"
             ],
             [
              0.2222222222222222,
              "#7201a8"
             ],
             [
              0.3333333333333333,
              "#9c179e"
             ],
             [
              0.4444444444444444,
              "#bd3786"
             ],
             [
              0.5555555555555556,
              "#d8576b"
             ],
             [
              0.6666666666666666,
              "#ed7953"
             ],
             [
              0.7777777777777778,
              "#fb9f3a"
             ],
             [
              0.8888888888888888,
              "#fdca26"
             ],
             [
              1,
              "#f0f921"
             ]
            ],
            "type": "heatmapgl"
           }
          ],
          "histogram": [
           {
            "marker": {
             "pattern": {
              "fillmode": "overlay",
              "size": 10,
              "solidity": 0.2
             }
            },
            "type": "histogram"
           }
          ],
          "histogram2d": [
           {
            "colorbar": {
             "outlinewidth": 0,
             "ticks": ""
            },
            "colorscale": [
             [
              0,
              "#0d0887"
             ],
             [
              0.1111111111111111,
              "#46039f"
             ],
             [
              0.2222222222222222,
              "#7201a8"
             ],
             [
              0.3333333333333333,
              "#9c179e"
             ],
             [
              0.4444444444444444,
              "#bd3786"
             ],
             [
              0.5555555555555556,
              "#d8576b"
             ],
             [
              0.6666666666666666,
              "#ed7953"
             ],
             [
              0.7777777777777778,
              "#fb9f3a"
             ],
             [
              0.8888888888888888,
              "#fdca26"
             ],
             [
              1,
              "#f0f921"
             ]
            ],
            "type": "histogram2d"
           }
          ],
          "histogram2dcontour": [
           {
            "colorbar": {
             "outlinewidth": 0,
             "ticks": ""
            },
            "colorscale": [
             [
              0,
              "#0d0887"
             ],
             [
              0.1111111111111111,
              "#46039f"
             ],
             [
              0.2222222222222222,
              "#7201a8"
             ],
             [
              0.3333333333333333,
              "#9c179e"
             ],
             [
              0.4444444444444444,
              "#bd3786"
             ],
             [
              0.5555555555555556,
              "#d8576b"
             ],
             [
              0.6666666666666666,
              "#ed7953"
             ],
             [
              0.7777777777777778,
              "#fb9f3a"
             ],
             [
              0.8888888888888888,
              "#fdca26"
             ],
             [
              1,
              "#f0f921"
             ]
            ],
            "type": "histogram2dcontour"
           }
          ],
          "mesh3d": [
           {
            "colorbar": {
             "outlinewidth": 0,
             "ticks": ""
            },
            "type": "mesh3d"
           }
          ],
          "parcoords": [
           {
            "line": {
             "colorbar": {
              "outlinewidth": 0,
              "ticks": ""
             }
            },
            "type": "parcoords"
           }
          ],
          "pie": [
           {
            "automargin": true,
            "type": "pie"
           }
          ],
          "scatter": [
           {
            "marker": {
             "colorbar": {
              "outlinewidth": 0,
              "ticks": ""
             }
            },
            "type": "scatter"
           }
          ],
          "scatter3d": [
           {
            "line": {
             "colorbar": {
              "outlinewidth": 0,
              "ticks": ""
             }
            },
            "marker": {
             "colorbar": {
              "outlinewidth": 0,
              "ticks": ""
             }
            },
            "type": "scatter3d"
           }
          ],
          "scattercarpet": [
           {
            "marker": {
             "colorbar": {
              "outlinewidth": 0,
              "ticks": ""
             }
            },
            "type": "scattercarpet"
           }
          ],
          "scattergeo": [
           {
            "marker": {
             "colorbar": {
              "outlinewidth": 0,
              "ticks": ""
             }
            },
            "type": "scattergeo"
           }
          ],
          "scattergl": [
           {
            "marker": {
             "colorbar": {
              "outlinewidth": 0,
              "ticks": ""
             }
            },
            "type": "scattergl"
           }
          ],
          "scattermapbox": [
           {
            "marker": {
             "colorbar": {
              "outlinewidth": 0,
              "ticks": ""
             }
            },
            "type": "scattermapbox"
           }
          ],
          "scatterpolar": [
           {
            "marker": {
             "colorbar": {
              "outlinewidth": 0,
              "ticks": ""
             }
            },
            "type": "scatterpolar"
           }
          ],
          "scatterpolargl": [
           {
            "marker": {
             "colorbar": {
              "outlinewidth": 0,
              "ticks": ""
             }
            },
            "type": "scatterpolargl"
           }
          ],
          "scatterternary": [
           {
            "marker": {
             "colorbar": {
              "outlinewidth": 0,
              "ticks": ""
             }
            },
            "type": "scatterternary"
           }
          ],
          "surface": [
           {
            "colorbar": {
             "outlinewidth": 0,
             "ticks": ""
            },
            "colorscale": [
             [
              0,
              "#0d0887"
             ],
             [
              0.1111111111111111,
              "#46039f"
             ],
             [
              0.2222222222222222,
              "#7201a8"
             ],
             [
              0.3333333333333333,
              "#9c179e"
             ],
             [
              0.4444444444444444,
              "#bd3786"
             ],
             [
              0.5555555555555556,
              "#d8576b"
             ],
             [
              0.6666666666666666,
              "#ed7953"
             ],
             [
              0.7777777777777778,
              "#fb9f3a"
             ],
             [
              0.8888888888888888,
              "#fdca26"
             ],
             [
              1,
              "#f0f921"
             ]
            ],
            "type": "surface"
           }
          ],
          "table": [
           {
            "cells": {
             "fill": {
              "color": "#EBF0F8"
             },
             "line": {
              "color": "white"
             }
            },
            "header": {
             "fill": {
              "color": "#C8D4E3"
             },
             "line": {
              "color": "white"
             }
            },
            "type": "table"
           }
          ]
         },
         "layout": {
          "annotationdefaults": {
           "arrowcolor": "#2a3f5f",
           "arrowhead": 0,
           "arrowwidth": 1
          },
          "autotypenumbers": "strict",
          "coloraxis": {
           "colorbar": {
            "outlinewidth": 0,
            "ticks": ""
           }
          },
          "colorscale": {
           "diverging": [
            [
             0,
             "#8e0152"
            ],
            [
             0.1,
             "#c51b7d"
            ],
            [
             0.2,
             "#de77ae"
            ],
            [
             0.3,
             "#f1b6da"
            ],
            [
             0.4,
             "#fde0ef"
            ],
            [
             0.5,
             "#f7f7f7"
            ],
            [
             0.6,
             "#e6f5d0"
            ],
            [
             0.7,
             "#b8e186"
            ],
            [
             0.8,
             "#7fbc41"
            ],
            [
             0.9,
             "#4d9221"
            ],
            [
             1,
             "#276419"
            ]
           ],
           "sequential": [
            [
             0,
             "#0d0887"
            ],
            [
             0.1111111111111111,
             "#46039f"
            ],
            [
             0.2222222222222222,
             "#7201a8"
            ],
            [
             0.3333333333333333,
             "#9c179e"
            ],
            [
             0.4444444444444444,
             "#bd3786"
            ],
            [
             0.5555555555555556,
             "#d8576b"
            ],
            [
             0.6666666666666666,
             "#ed7953"
            ],
            [
             0.7777777777777778,
             "#fb9f3a"
            ],
            [
             0.8888888888888888,
             "#fdca26"
            ],
            [
             1,
             "#f0f921"
            ]
           ],
           "sequentialminus": [
            [
             0,
             "#0d0887"
            ],
            [
             0.1111111111111111,
             "#46039f"
            ],
            [
             0.2222222222222222,
             "#7201a8"
            ],
            [
             0.3333333333333333,
             "#9c179e"
            ],
            [
             0.4444444444444444,
             "#bd3786"
            ],
            [
             0.5555555555555556,
             "#d8576b"
            ],
            [
             0.6666666666666666,
             "#ed7953"
            ],
            [
             0.7777777777777778,
             "#fb9f3a"
            ],
            [
             0.8888888888888888,
             "#fdca26"
            ],
            [
             1,
             "#f0f921"
            ]
           ]
          },
          "colorway": [
           "#636efa",
           "#EF553B",
           "#00cc96",
           "#ab63fa",
           "#FFA15A",
           "#19d3f3",
           "#FF6692",
           "#B6E880",
           "#FF97FF",
           "#FECB52"
          ],
          "font": {
           "color": "#2a3f5f"
          },
          "geo": {
           "bgcolor": "white",
           "lakecolor": "white",
           "landcolor": "#E5ECF6",
           "showlakes": true,
           "showland": true,
           "subunitcolor": "white"
          },
          "hoverlabel": {
           "align": "left"
          },
          "hovermode": "closest",
          "mapbox": {
           "style": "light"
          },
          "paper_bgcolor": "white",
          "plot_bgcolor": "#E5ECF6",
          "polar": {
           "angularaxis": {
            "gridcolor": "white",
            "linecolor": "white",
            "ticks": ""
           },
           "bgcolor": "#E5ECF6",
           "radialaxis": {
            "gridcolor": "white",
            "linecolor": "white",
            "ticks": ""
           }
          },
          "scene": {
           "xaxis": {
            "backgroundcolor": "#E5ECF6",
            "gridcolor": "white",
            "gridwidth": 2,
            "linecolor": "white",
            "showbackground": true,
            "ticks": "",
            "zerolinecolor": "white"
           },
           "yaxis": {
            "backgroundcolor": "#E5ECF6",
            "gridcolor": "white",
            "gridwidth": 2,
            "linecolor": "white",
            "showbackground": true,
            "ticks": "",
            "zerolinecolor": "white"
           },
           "zaxis": {
            "backgroundcolor": "#E5ECF6",
            "gridcolor": "white",
            "gridwidth": 2,
            "linecolor": "white",
            "showbackground": true,
            "ticks": "",
            "zerolinecolor": "white"
           }
          },
          "shapedefaults": {
           "line": {
            "color": "#2a3f5f"
           }
          },
          "ternary": {
           "aaxis": {
            "gridcolor": "white",
            "linecolor": "white",
            "ticks": ""
           },
           "baxis": {
            "gridcolor": "white",
            "linecolor": "white",
            "ticks": ""
           },
           "bgcolor": "#E5ECF6",
           "caxis": {
            "gridcolor": "white",
            "linecolor": "white",
            "ticks": ""
           }
          },
          "title": {
           "x": 0.05
          },
          "xaxis": {
           "automargin": true,
           "gridcolor": "white",
           "linecolor": "white",
           "ticks": "",
           "title": {
            "standoff": 15
           },
           "zerolinecolor": "white",
           "zerolinewidth": 2
          },
          "yaxis": {
           "automargin": true,
           "gridcolor": "white",
           "linecolor": "white",
           "ticks": "",
           "title": {
            "standoff": 15
           },
           "zerolinecolor": "white",
           "zerolinewidth": 2
          }
         }
        }
       }
      },
      "image/png": "[encoded data removed]",
      "text/html": [
       "<div>                            <div id=\"89bacec9-e830-4287-bd63-d96aebd03c62\" class=\"plotly-graph-div\" style=\"height:525px; width:100%;\"></div>            <script type=\"text/javascript\">                require([\"plotly\"], function(Plotly) {                    window.PLOTLYENV=window.PLOTLYENV || {};                                    if (document.getElementById(\"89bacec9-e830-4287-bd63-d96aebd03c62\")) {                    Plotly.newPlot(                        \"89bacec9-e830-4287-bd63-d96aebd03c62\",                        [{\"cells\":{\"values\":[[\"Graph directed\",\"Number of users\",\"Number of answers/comments\",\"Average number of links per user\",\"Density degree of the graph\",\"Is the graph sparse or dense?\"],[true,22965,52432,2.283126496843022,9.942198645022739e-05,\"The graph is sparse because the number of edges is much less than the square of the number of nodes \"]]},\"header\":{\"values\":[\"Graph features\",\"Values\"]},\"type\":\"table\"}],                        {\"template\":{\"data\":{\"bar\":[{\"error_x\":{\"color\":\"#2a3f5f\"},\"error_y\":{\"color\":\"#2a3f5f\"},\"marker\":{\"line\":{\"color\":\"#E5ECF6\",\"width\":0.5},\"pattern\":{\"fillmode\":\"overlay\",\"size\":10,\"solidity\":0.2}},\"type\":\"bar\"}],\"barpolar\":[{\"marker\":{\"line\":{\"color\":\"#E5ECF6\",\"width\":0.5},\"pattern\":{\"fillmode\":\"overlay\",\"size\":10,\"solidity\":0.2}},\"type\":\"barpolar\"}],\"carpet\":[{\"aaxis\":{\"endlinecolor\":\"#2a3f5f\",\"gridcolor\":\"white\",\"linecolor\":\"white\",\"minorgridcolor\":\"white\",\"startlinecolor\":\"#2a3f5f\"},\"baxis\":{\"endlinecolor\":\"#2a3f5f\",\"gridcolor\":\"white\",\"linecolor\":\"white\",\"minorgridcolor\":\"white\",\"startlinecolor\":\"#2a3f5f\"},\"type\":\"carpet\"}],\"choropleth\":[{\"colorbar\":{\"outlinewidth\":0,\"ticks\":\"\"},\"type\":\"choropleth\"}],\"contour\":[{\"colorbar\":{\"outlinewidth\":0,\"ticks\":\"\"},\"colorscale\":[[0.0,\"#0d0887\"],[0.1111111111111111,\"#46039f\"],[0.2222222222222222,\"#7201a8\"],[0.3333333333333333,\"#9c179e\"],[0.4444444444444444,\"#bd3786\"],[0.5555555555555556,\"#d8576b\"],[0.6666666666666666,\"#ed7953\"],[0.7777777777777778,\"#fb9f3a\"],[0.8888888888888888,\"#fdca26\"],[1.0,\"#f0f921\"]],\"type\":\"contour\"}],\"contourcarpet\":[{\"colorbar\":{\"outlinewidth\":0,\"ticks\":\"\"},\"type\":\"contourcarpet\"}],\"heatmap\":[{\"colorbar\":{\"outlinewidth\":0,\"ticks\":\"\"},\"colorscale\":[[0.0,\"#0d0887\"],[0.1111111111111111,\"#46039f\"],[0.2222222222222222,\"#7201a8\"],[0.3333333333333333,\"#9c179e\"],[0.4444444444444444,\"#bd3786\"],[0.5555555555555556,\"#d8576b\"],[0.6666666666666666,\"#ed7953\"],[0.7777777777777778,\"#fb9f3a\"],[0.8888888888888888,\"#fdca26\"],[1.0,\"#f0f921\"]],\"type\":\"heatmap\"}],\"heatmapgl\":[{\"colorbar\":{\"outlinewidth\":0,\"ticks\":\"\"},\"colorscale\":[[0.0,\"#0d0887\"],[0.1111111111111111,\"#46039f\"],[0.2222222222222222,\"#7201a8\"],[0.3333333333333333,\"#9c179e\"],[0.4444444444444444,\"#bd3786\"],[0.5555555555555556,\"#d8576b\"],[0.6666666666666666,\"#ed7953\"],[0.7777777777777778,\"#fb9f3a\"],[0.8888888888888888,\"#fdca26\"],[1.0,\"#f0f921\"]],\"type\":\"heatmapgl\"}],\"histogram\":[{\"marker\":{\"pattern\":{\"fillmode\":\"overlay\",\"size\":10,\"solidity\":0.2}},\"type\":\"histogram\"}],\"histogram2d\":[{\"colorbar\":{\"outlinewidth\":0,\"ticks\":\"\"},\"colorscale\":[[0.0,\"#0d0887\"],[0.1111111111111111,\"#46039f\"],[0.2222222222222222,\"#7201a8\"],[0.3333333333333333,\"#9c179e\"],[0.4444444444444444,\"#bd3786\"],[0.5555555555555556,\"#d8576b\"],[0.6666666666666666,\"#ed7953\"],[0.7777777777777778,\"#fb9f3a\"],[0.8888888888888888,\"#fdca26\"],[1.0,\"#f0f921\"]],\"type\":\"histogram2d\"}],\"histogram2dcontour\":[{\"colorbar\":{\"outlinewidth\":0,\"ticks\":\"\"},\"colorscale\":[[0.0,\"#0d0887\"],[0.1111111111111111,\"#46039f\"],[0.2222222222222222,\"#7201a8\"],[0.3333333333333333,\"#9c179e\"],[0.4444444444444444,\"#bd3786\"],[0.5555555555555556,\"#d8576b\"],[0.6666666666666666,\"#ed7953\"],[0.7777777777777778,\"#fb9f3a\"],[0.8888888888888888,\"#fdca26\"],[1.0,\"#f0f921\"]],\"type\":\"histogram2dcontour\"}],\"mesh3d\":[{\"colorbar\":{\"outlinewidth\":0,\"ticks\":\"\"},\"type\":\"mesh3d\"}],\"parcoords\":[{\"line\":{\"colorbar\":{\"outlinewidth\":0,\"ticks\":\"\"}},\"type\":\"parcoords\"}],\"pie\":[{\"automargin\":true,\"type\":\"pie\"}],\"scatter\":[{\"marker\":{\"colorbar\":{\"outlinewidth\":0,\"ticks\":\"\"}},\"type\":\"scatter\"}],\"scatter3d\":[{\"line\":{\"colorbar\":{\"outlinewidth\":0,\"ticks\":\"\"}},\"marker\":{\"colorbar\":{\"outlinewidth\":0,\"ticks\":\"\"}},\"type\":\"scatter3d\"}],\"scattercarpet\":[{\"marker\":{\"colorbar\":{\"outlinewidth\":0,\"ticks\":\"\"}},\"type\":\"scattercarpet\"}],\"scattergeo\":[{\"marker\":{\"colorbar\":{\"outlinewidth\":0,\"ticks\":\"\"}},\"type\":\"scattergeo\"}],\"scattergl\":[{\"marker\":{\"colorbar\":{\"outlinewidth\":0,\"ticks\":\"\"}},\"type\":\"scattergl\"}],\"scattermapbox\":[{\"marker\":{\"colorbar\":{\"outlinewidth\":0,\"ticks\":\"\"}},\"type\":\"scattermapbox\"}],\"scatterpolar\":[{\"marker\":{\"colorbar\":{\"outlinewidth\":0,\"ticks\":\"\"}},\"type\":\"scatterpolar\"}],\"scatterpolargl\":[{\"marker\":{\"colorbar\":{\"outlinewidth\":0,\"ticks\":\"\"}},\"type\":\"scatterpolargl\"}],\"scatterternary\":[{\"marker\":{\"colorbar\":{\"outlinewidth\":0,\"ticks\":\"\"}},\"type\":\"scatterternary\"}],\"surface\":[{\"colorbar\":{\"outlinewidth\":0,\"ticks\":\"\"},\"colorscale\":[[0.0,\"#0d0887\"],[0.1111111111111111,\"#46039f\"],[0.2222222222222222,\"#7201a8\"],[0.3333333333333333,\"#9c179e\"],[0.4444444444444444,\"#bd3786\"],[0.5555555555555556,\"#d8576b\"],[0.6666666666666666,\"#ed7953\"],[0.7777777777777778,\"#fb9f3a\"],[0.8888888888888888,\"#fdca26\"],[1.0,\"#f0f921\"]],\"type\":\"surface\"}],\"table\":[{\"cells\":{\"fill\":{\"color\":\"#EBF0F8\"},\"line\":{\"color\":\"white\"}},\"header\":{\"fill\":{\"color\":\"#C8D4E3\"},\"line\":{\"color\":\"white\"}},\"type\":\"table\"}]},\"layout\":{\"annotationdefaults\":{\"arrowcolor\":\"#2a3f5f\",\"arrowhead\":0,\"arrowwidth\":1},\"autotypenumbers\":\"strict\",\"coloraxis\":{\"colorbar\":{\"outlinewidth\":0,\"ticks\":\"\"}},\"colorscale\":{\"diverging\":[[0,\"#8e0152\"],[0.1,\"#c51b7d\"],[0.2,\"#de77ae\"],[0.3,\"#f1b6da\"],[0.4,\"#fde0ef\"],[0.5,\"#f7f7f7\"],[0.6,\"#e6f5d0\"],[0.7,\"#b8e186\"],[0.8,\"#7fbc41\"],[0.9,\"#4d9221\"],[1,\"#276419\"]],\"sequential\":[[0.0,\"#0d0887\"],[0.1111111111111111,\"#46039f\"],[0.2222222222222222,\"#7201a8\"],[0.3333333333333333,\"#9c179e\"],[0.4444444444444444,\"#bd3786\"],[0.5555555555555556,\"#d8576b\"],[0.6666666666666666,\"#ed7953\"],[0.7777777777777778,\"#fb9f3a\"],[0.8888888888888888,\"#fdca26\"],[1.0,\"#f0f921\"]],\"sequentialminus\":[[0.0,\"#0d0887\"],[0.1111111111111111,\"#46039f\"],[0.2222222222222222,\"#7201a8\"],[0.3333333333333333,\"#9c179e\"],[0.4444444444444444,\"#bd3786\"],[0.5555555555555556,\"#d8576b\"],[0.6666666666666666,\"#ed7953\"],[0.7777777777777778,\"#fb9f3a\"],[0.8888888888888888,\"#fdca26\"],[1.0,\"#f0f921\"]]},\"colorway\":[\"#636efa\",\"#EF553B\",\"#00cc96\",\"#ab63fa\",\"#FFA15A\",\"#19d3f3\",\"#FF6692\",\"#B6E880\",\"#FF97FF\",\"#FECB52\"],\"font\":{\"color\":\"#2a3f5f\"},\"geo\":{\"bgcolor\":\"white\",\"lakecolor\":\"white\",\"landcolor\":\"#E5ECF6\",\"showlakes\":true,\"showland\":true,\"subunitcolor\":\"white\"},\"hoverlabel\":{\"align\":\"left\"},\"hovermode\":\"closest\",\"mapbox\":{\"style\":\"light\"},\"paper_bgcolor\":\"white\",\"plot_bgcolor\":\"#E5ECF6\",\"polar\":{\"angularaxis\":{\"gridcolor\":\"white\",\"linecolor\":\"white\",\"ticks\":\"\"},\"bgcolor\":\"#E5ECF6\",\"radialaxis\":{\"gridcolor\":\"white\",\"linecolor\":\"white\",\"ticks\":\"\"}},\"scene\":{\"xaxis\":{\"backgroundcolor\":\"#E5ECF6\",\"gridcolor\":\"white\",\"gridwidth\":2,\"linecolor\":\"white\",\"showbackground\":true,\"ticks\":\"\",\"zerolinecolor\":\"white\"},\"yaxis\":{\"backgroundcolor\":\"#E5ECF6\",\"gridcolor\":\"white\",\"gridwidth\":2,\"linecolor\":\"white\",\"showbackground\":true,\"ticks\":\"\",\"zerolinecolor\":\"white\"},\"zaxis\":{\"backgroundcolor\":\"#E5ECF6\",\"gridcolor\":\"white\",\"gridwidth\":2,\"linecolor\":\"white\",\"showbackground\":true,\"ticks\":\"\",\"zerolinecolor\":\"white\"}},\"shapedefaults\":{\"line\":{\"color\":\"#2a3f5f\"}},\"ternary\":{\"aaxis\":{\"gridcolor\":\"white\",\"linecolor\":\"white\",\"ticks\":\"\"},\"baxis\":{\"gridcolor\":\"white\",\"linecolor\":\"white\",\"ticks\":\"\"},\"bgcolor\":\"#E5ECF6\",\"caxis\":{\"gridcolor\":\"white\",\"linecolor\":\"white\",\"ticks\":\"\"}},\"title\":{\"x\":0.05},\"xaxis\":{\"automargin\":true,\"gridcolor\":\"white\",\"linecolor\":\"white\",\"ticks\":\"\",\"title\":{\"standoff\":15},\"zerolinecolor\":\"white\",\"zerolinewidth\":2},\"yaxis\":{\"automargin\":true,\"gridcolor\":\"white\",\"linecolor\":\"white\",\"ticks\":\"\",\"title\":{\"standoff\":15},\"zerolinecolor\":\"white\",\"zerolinewidth\":2}}}},                        {\"responsive\": true}                    ).then(function(){\n",
       "                            \n",
       "var gd = document.getElementById('89bacec9-e830-4287-bd63-d96aebd03c62');\n",
       "var x = new MutationObserver(function (mutations, observer) {{\n",
       "        var display = window.getComputedStyle(gd).display;\n",
       "        if (!display || display === 'none') {{\n",
       "            console.log([gd, 'removed!']);\n",
       "            Plotly.purge(gd);\n",
       "            observer.disconnect();\n",
       "        }}\n",
       "}});\n",
       "\n",
       "// Listen for the removal of the full notebook cells\n",
       "var notebookContainer = gd.closest('#notebook-container');\n",
       "if (notebookContainer) {{\n",
       "    x.observe(notebookContainer, {childList: true});\n",
       "}}\n",
       "\n",
       "// Listen for the clearing of the current output cell\n",
       "var outputEl = gd.closest('.output');\n",
       "if (outputEl) {{\n",
       "    x.observe(outputEl, {childList: true});\n",
       "}}\n",
       "\n",
       "                        })                };                });            </script>        </div>"
      ]
     },
     "metadata": {},
     "output_type": "display_data"
    }
   ],
   "source": [
    "var = int(input(\"Hello! Print a integer number between 1 and 4. \"))\n",
    "if var==1:\n",
    "    print(\"You have selected the functionality 1.. so you are going to get the overall features of a graph\")\n",
    "    g = int(input(\"Choose one of the three graphs! Print a number between 1, 2, 3.  \" ))\n",
    "    if g==1:\n",
    "        visualization(G_a2q) \n",
    "    if g==2:\n",
    "        visualization(G_c2q)\n",
    "    if g==3:\n",
    "        visualization(G_c2a)\n",
    "if var==2:\n",
    "    print(\"You have selected the functionality 2\")\n",
    "    \n",
    "    \n",
    "    "
   ]
  },
  {
   "cell_type": "markdown",
   "metadata": {},
   "source": [
    "## 4. Algorithmic question"
   ]
  },
  {
   "cell_type": "markdown",
   "metadata": {},
   "source": [
    "A number n of kids are in a camp. Between some k pairs of them (a kid can be part of more than one pairs) there are often fights. At night there are two dormitories where the kids can sleep. We want, if possible, to assign each kid in one of the two dormitories in such a way that each pair of kids that fights often is assigned to a different dormitory. (There are no space problems and the two dormitories can have different number of kids.)\n",
    "\n",
    "Give an algorithm that is linear in n and k that is able to answer whether such an assignment is possible and, if so, return one."
   ]
  },
  {
   "cell_type": "code",
   "execution_count": 23,
   "metadata": {},
   "outputs": [],
   "source": [
    "def my_algo(kids, pairs):\n",
    "    '''\n",
    "    Input:\n",
    "        - kids : list of kids in the camp\n",
    "        - pairs : list of pairs of kids\n",
    "    '''\n",
    "    \n",
    "    dorm_1 = [] # List for the first dormitory\n",
    "    dorm_2 = [] # List for the second dormitory\n",
    "    visited_kids = [] # list of visited kids\n",
    "    \n",
    "    # Focus on the pairs to divide\n",
    "    for pair in pairs:\n",
    "        if (pair[0] not in visited_kids) & (pair[1] not in visited_kids):\n",
    "            visited_kids.append(pair[0]) # Append it to the list of visited\n",
    "            dorm_1.append(pair[0]) # Assign it to the first dormitory\n",
    "            \n",
    "            visited_kids.append(pair[1]) # Append it to the list of visited\n",
    "            dorm_2.append(pair[1]) # Assign it to the second dormitory\n",
    "        \n",
    "        elif (pair[0] in visited_kids) & (pair[1] not in visited_kids):\n",
    "            # we put the other kid in the pair\n",
    "            if pair[0] in dorm_1 :\n",
    "                dorm=dorm_2\n",
    "            else :\n",
    "                dorm=dorm_1\n",
    "            visited_kids.append(pair[1])\n",
    "            dorm.append(pair[1])\n",
    "        \n",
    "        elif (pair[0] not in visited_kids) & (pair[1] in visited_kids):\n",
    "            # we put the other kid in the pair\n",
    "            if pair[1] in dorm_1 :\n",
    "                dorm=dorm_2\n",
    "            else :\n",
    "                dorm=dorm_1\n",
    "            visited_kids.append(pair[0]) \n",
    "            dorm.append(pair[0])\n",
    "           \n",
    "    # Assign all the others kids in the first dormitory\n",
    "    for kid in kids:\n",
    "        if kid not in visited_kids:\n",
    "            visited_kids.append(kid)\n",
    "            dorm_1.append(kid)\n",
    "            \n",
    "    # Check if we have divided all the fighting couples\n",
    "    check = True # Initialize a counter\n",
    "    for pair in pairs:\n",
    "        if (pair[0] in dorm_1) & (pair[1] in dorm_1):\n",
    "            print('Two fighting kids in dorm 1!')\n",
    "            check = False\n",
    "        if (pair[0] in dorm_2) & (pair[1] in dorm_2):\n",
    "            print('Two fighting kids in dorm 2!')\n",
    "            check = False\n",
    "        \n",
    "    if not check:\n",
    "        print(\"It's impossible to assign these kids in different dorms..\")\n",
    "    else:\n",
    "        print('First dorm:', dorm_1, '\\nSecond dorm:', dorm_2)\n"
   ]
  },
  {
   "cell_type": "markdown",
   "metadata": {},
   "source": [
    "Test it with different examples."
   ]
  },
  {
   "cell_type": "code",
   "execution_count": 24,
   "metadata": {},
   "outputs": [
    {
     "name": "stdout",
     "output_type": "stream",
     "text": [
      "First dorm: [1, 2, 5, 6] \n",
      "Second dorm: [3, 4]\n"
     ]
    }
   ],
   "source": [
    "pairs = [(1,3),(4,1),(2,4)]\n",
    "kids = [1,2,3,4,5,6]\n",
    "my_algo(kids, pairs)"
   ]
  },
  {
   "cell_type": "code",
   "execution_count": 25,
   "metadata": {},
   "outputs": [
    {
     "name": "stdout",
     "output_type": "stream",
     "text": [
      "Two fighting kids in dorm 2!\n",
      "It's impossible to assign these kids in different dorms..\n"
     ]
    }
   ],
   "source": [
    "pairs = [(1,3),(4,1),(3,4)]\n",
    "kids = [1,2,3,4,5,6]\n",
    "my_algo(kids, pairs)"
   ]
  },
  {
   "cell_type": "code",
   "execution_count": 26,
   "metadata": {},
   "outputs": [
    {
     "name": "stdout",
     "output_type": "stream",
     "text": [
      "Two fighting kids in dorm 1!\n",
      "It's impossible to assign these kids in different dorms..\n"
     ]
    }
   ],
   "source": [
    "pairs = [(1,3),(4,1),(2,4),(2,1)]\n",
    "kids = [1,2,3,4,5,6]\n",
    "my_algo(kids, pairs)"
   ]
  }
 ],
 "metadata": {
  "colab": {
   "collapsed_sections": [],
   "name": "Exercise 1.ipynb",
   "provenance": []
  },
  "kernelspec": {
   "display_name": "Python 3",
   "language": "python",
   "name": "python3"
  },
  "language_info": {
   "codemirror_mode": {
    "name": "ipython",
    "version": 3
   },
   "file_extension": ".py",
   "mimetype": "text/x-python",
   "name": "python",
   "nbconvert_exporter": "python",
   "pygments_lexer": "ipython3",
   "version": "3.8.8"
  }
 },
 "nbformat": 4,
 "nbformat_minor": 4
}
